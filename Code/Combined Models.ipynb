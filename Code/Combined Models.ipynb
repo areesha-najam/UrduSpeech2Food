{
 "cells": [
  {
   "cell_type": "markdown",
   "id": "5d75ea68",
   "metadata": {},
   "source": [
    "### Import Required Libraries\n"
   ]
  },
  {
   "cell_type": "code",
   "execution_count": 2,
   "id": "5112b1ce",
   "metadata": {},
   "outputs": [],
   "source": [
    "import spacy"
   ]
  },
  {
   "cell_type": "markdown",
   "id": "088c86e4",
   "metadata": {},
   "source": [
    "### Load the saved model"
   ]
  },
  {
   "cell_type": "code",
   "execution_count": 3,
   "id": "e47ae8b2",
   "metadata": {},
   "outputs": [],
   "source": [
    "nlp = spacy.load(\"urdu_ner_model\")"
   ]
  },
  {
   "cell_type": "markdown",
   "id": "2ff072c3",
   "metadata": {},
   "source": [
    "#### Test the loaded model on some text"
   ]
  },
  {
   "cell_type": "code",
   "execution_count": 6,
   "id": "09ca305a",
   "metadata": {},
   "outputs": [
    {
     "name": "stdout",
     "output_type": "stream",
     "text": [
      "چائے کا 1 Unit\n"
     ]
    }
   ],
   "source": [
    "text = \"چائے کا 1  چمچہ نمک \"\n",
    "\n",
    "doc = nlp(text)\n",
    "\n",
    "# Print the entities recognized by the loaded model\n",
    "for ent in doc.ents:\n",
    "    print(ent.text, ent.label_)"
   ]
  },
  {
   "cell_type": "code",
   "execution_count": 7,
   "id": "236637cd",
   "metadata": {},
   "outputs": [
    {
     "name": "stdout",
     "output_type": "stream",
     "text": [
      "نمک پانچ چائے Ingredient\n"
     ]
    }
   ],
   "source": [
    "text = \"نمک پانچ چائے کا چمچہ\"\n",
    "doc = nlp(text)\n",
    "\n",
    "# Print the entities recognized by the loaded model\n",
    "for ent in doc.ents:\n",
    "    print(ent.text, ent.label_)"
   ]
  },
  {
   "cell_type": "code",
   "execution_count": null,
   "id": "0dde2e12",
   "metadata": {},
   "outputs": [],
   "source": []
  }
 ],
 "metadata": {
  "kernelspec": {
   "display_name": "Python 3 (ipykernel)",
   "language": "python",
   "name": "python3"
  },
  "language_info": {
   "codemirror_mode": {
    "name": "ipython",
    "version": 3
   },
   "file_extension": ".py",
   "mimetype": "text/x-python",
   "name": "python",
   "nbconvert_exporter": "python",
   "pygments_lexer": "ipython3",
   "version": "3.9.13"
  }
 },
 "nbformat": 4,
 "nbformat_minor": 5
}
