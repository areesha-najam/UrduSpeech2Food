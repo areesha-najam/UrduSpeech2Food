{
 "cells": [
  {
   "attachments": {},
   "cell_type": "markdown",
   "metadata": {},
   "source": [
    "## Import Required Libraries"
   ]
  },
  {
   "cell_type": "code",
   "execution_count": 46,
   "metadata": {
    "editable": false,
    "execution": {
     "iopub.execute_input": "2023-05-06T10:25:31.527967Z",
     "iopub.status.busy": "2023-05-06T10:25:31.526753Z",
     "iopub.status.idle": "2023-05-06T10:25:43.944840Z",
     "shell.execute_reply": "2023-05-06T10:25:43.943648Z",
     "shell.execute_reply.started": "2023-05-06T10:25:31.527912Z"
    }
   },
   "outputs": [],
   "source": [
    "import re\n",
    "import pandas as pd\n",
    "import random\n",
    "import spacy\n",
    "from spacy.util import minibatch, compounding\n",
    "from sklearn.model_selection import train_test_split\n",
    "from spacy.training import Example\n",
    "from spacy.tokens import Doc\n",
    "from time import time"
   ]
  },
  {
   "attachments": {},
   "cell_type": "markdown",
   "metadata": {
    "editable": false,
    "execution": {
     "iopub.execute_input": "2023-05-06T07:22:16.133192Z",
     "iopub.status.busy": "2023-05-06T07:22:16.131941Z",
     "iopub.status.idle": "2023-05-06T07:22:16.174402Z",
     "shell.execute_reply": "2023-05-06T07:22:16.173218Z",
     "shell.execute_reply.started": "2023-05-06T07:22:16.133138Z"
    }
   },
   "source": [
    "## Tagging Data\n",
    "Format: (\"Ingredient_Phrase\", {\"entities\": [(start, end, \"Ingredient\"), (start, end,\"Quantity\"), (start, end, \"Unit\")]})\n",
    "where start and end are starting and ending indexes respectively. "
   ]
  },
  {
   "cell_type": "code",
   "execution_count": 47,
   "metadata": {
    "editable": false,
    "execution": {
     "iopub.execute_input": "2023-05-06T10:25:43.949722Z",
     "iopub.status.busy": "2023-05-06T10:25:43.948815Z",
     "iopub.status.idle": "2023-05-06T10:25:43.959466Z",
     "shell.execute_reply": "2023-05-06T10:25:43.958239Z",
     "shell.execute_reply.started": "2023-05-06T10:25:43.949674Z"
    }
   },
   "outputs": [],
   "source": [
    "tagged_entities = []\n",
    "def tag_input(input_str):\n",
    "    # Define the regex pattern\n",
    "    pattern = r'(\\S+)\\s*(\\d+(?:\\.\\d+)?)\\s*(\\S+)'\n",
    "\n",
    "    # Extract the matches using the pattern\n",
    "    matches = re.findall(pattern, input_str)\n",
    "\n",
    "    # Create a list of tuples with the tagged entities\n",
    "    for match in matches:\n",
    "        ingredient = match[0]\n",
    "        quantity = match[1]\n",
    "        unit = match[2]\n",
    "        entity = (input_str, {\"entities\": [(0, re.search('\\d', input_str).start()-1, \"Ingredient\"), \n",
    "                                           (re.search('\\d', input_str).start(), re.search('\\d', input_str).end(), \"Quantity\"), \n",
    "                                           (re.search('\\d', input_str).end()+1, len(input_str), \"Unit\")]})\n",
    "        tagged_entities.append(entity)\n",
    "#     return tagged_entities"
   ]
  },
  {
   "cell_type": "code",
   "execution_count": 48,
   "metadata": {
    "editable": false,
    "execution": {
     "iopub.execute_input": "2023-05-06T10:25:43.961677Z",
     "iopub.status.busy": "2023-05-06T10:25:43.961131Z",
     "iopub.status.idle": "2023-05-06T10:25:44.747414Z",
     "shell.execute_reply": "2023-05-06T10:25:44.746065Z",
     "shell.execute_reply.started": "2023-05-06T10:25:43.961638Z"
    }
   },
   "outputs": [],
   "source": [
    "df = pd.read_excel(\"urdu-recipes-ar.xlsx\")\n",
    "lst_ing_phrases = []\n",
    "for index, row in df.iterrows():\n",
    "    ing_name = row['ing_name']\n",
    "    ing_quantity = row['Ing_quantity']\n",
    "    ing_unit = row['Ing_unit']\n",
    "    concatenated = str(ing_name) +\" \"+ str(ing_quantity) + \" \" +str(ing_unit)\n",
    "#     print(concatenated)\n",
    "    remove_nan = concatenated.replace(\"nan\", \"\")\n",
    "#     print(remove_nan)\n",
    "    lst_ing_phrases.append(remove_nan)\n",
    "for i in lst_ing_phrases:\n",
    "    tag_input(i) "
   ]
  },
  {
   "attachments": {},
   "cell_type": "markdown",
   "metadata": {
    "editable": false
   },
   "source": [
    "### Let's look at \"Tagged Entities\"\n",
    "tagged_entities = [\n",
    "(\"ادرک لہسن کا پیسٹ 1 کھانے کا چمچہ\", {\"entities\": [(0, 13, \"Ingredient\"), (14, 15, \"Quantity\"), (16, 23, \"Unit\")]}),\n",
    "(\"ثابت لال مرچ 6 عدد\", {\"entities\": [(0, 9, \"Ingredient\"), (10, 11, \"Quantity\"), (12, 15, \"Unit\")]}),\n",
    "(\"ہری مرچ 3 عدد\", {\"entities\": [(0, 7, \"Ingredient\"), (8, 9, \"Quantity\"), (10, 13, \"Unit\")]}),\n",
    "(\"لہسن کے جوے آدھا کلو\", {\"entities\": [(0, 11, \"Ingredient\"), (12, 13, \"Quantity\"), (14, 16, \"Unit\")]}),\n",
    "(\"فِش فلے 10 عدد\", {\"entities\": [(0, 7, \"Ingredient\"), (8, 10, \"Quantity\"), (11, 14, \"Unit\")]})]"
   ]
  },
  {
   "attachments": {},
   "cell_type": "markdown",
   "metadata": {
    "editable": false
   },
   "source": [
    "## Shuffle and Split Data "
   ]
  },
  {
   "cell_type": "code",
   "execution_count": 49,
   "metadata": {
    "editable": false,
    "execution": {
     "iopub.execute_input": "2023-05-06T10:25:44.750832Z",
     "iopub.status.busy": "2023-05-06T10:25:44.750267Z",
     "iopub.status.idle": "2023-05-06T10:25:44.760527Z",
     "shell.execute_reply": "2023-05-06T10:25:44.759268Z",
     "shell.execute_reply.started": "2023-05-06T10:25:44.750799Z"
    }
   },
   "outputs": [],
   "source": [
    "# Shuffle the data randomly\n",
    "random.shuffle(tagged_entities)\n",
    "\n",
    "# Split the data into train and test sets\n",
    "train_data, test_data = train_test_split(tagged_entities, test_size=0.2, random_state=42)"
   ]
  },
  {
   "attachments": {},
   "cell_type": "markdown",
   "metadata": {
    "editable": false
   },
   "source": [
    "## Initialize NER Model"
   ]
  },
  {
   "cell_type": "code",
   "execution_count": 50,
   "metadata": {
    "editable": false,
    "execution": {
     "iopub.execute_input": "2023-05-06T10:25:44.762801Z",
     "iopub.status.busy": "2023-05-06T10:25:44.762413Z",
     "iopub.status.idle": "2023-05-06T10:25:44.924617Z",
     "shell.execute_reply": "2023-05-06T10:25:44.923675Z",
     "shell.execute_reply.started": "2023-05-06T10:25:44.762757Z"
    }
   },
   "outputs": [
    {
     "data": {
      "text/plain": [
       "<spacy.pipeline.ner.EntityRecognizer at 0x231dbce4580>"
      ]
     },
     "execution_count": 50,
     "metadata": {},
     "output_type": "execute_result"
    }
   ],
   "source": [
    "# Initialize a blank Urdu model\n",
    "nlp = spacy.blank(\"ur\")\n",
    "\n",
    "# Create a new NER component\n",
    "ner = nlp.create_pipe(\"ner\")\n",
    "\n",
    "# Add the labels to the NER component\n",
    "labels = [\"Quantity\", \"Unit\", \"Ingredient\"]\n",
    "for label in labels:\n",
    "    ner.add_label(label)    \n",
    "    \n",
    "# Add the NER component to the pipeline\n",
    "nlp.add_pipe('ner', last=True)"
   ]
  },
  {
   "attachments": {},
   "cell_type": "markdown",
   "metadata": {
    "editable": false
   },
   "source": [
    "## Train the Model"
   ]
  },
  {
   "cell_type": "code",
   "execution_count": 51,
   "metadata": {
    "editable": false,
    "execution": {
     "iopub.execute_input": "2023-05-06T10:25:44.926552Z",
     "iopub.status.busy": "2023-05-06T10:25:44.926175Z",
     "iopub.status.idle": "2023-05-06T10:25:53.137503Z",
     "shell.execute_reply": "2023-05-06T10:25:53.136324Z",
     "shell.execute_reply.started": "2023-05-06T10:25:44.926517Z"
    }
   },
   "outputs": [
    {
     "name": "stdout",
     "output_type": "stream",
     "text": [
      "Epoch 1 - Time taken: 0.05 seconds\n",
      "Epoch 2 - Time taken: 0.11 seconds\n",
      "Epoch 3 - Time taken: 0.16 seconds\n",
      "Epoch 4 - Time taken: 0.21 seconds\n",
      "Epoch 5 - Time taken: 0.26 seconds\n"
     ]
    },
    {
     "name": "stderr",
     "output_type": "stream",
     "text": [
      "C:\\Users\\HOME\\anaconda3\\lib\\site-packages\\spacy\\training\\iob_utils.py:141: UserWarning: [W030] Some entities could not be aligned in the text \"تیل 0.25 کپ\" with entities \"[(0, 3, 'Ingredient'), (4, 5, 'Quantity'), (6, 11,...\". Use `spacy.training.offsets_to_biluo_tags(nlp.make_doc(text), entities)` to check the alignment. Misaligned entities ('-') will be ignored during training.\n",
      "  warnings.warn(\n"
     ]
    },
    {
     "name": "stdout",
     "output_type": "stream",
     "text": [
      "Epoch 6 - Time taken: 0.31 seconds\n",
      "Epoch 7 - Time taken: 0.39 seconds\n",
      "Epoch 8 - Time taken: 0.43 seconds\n",
      "Epoch 9 - Time taken: 0.48 seconds\n"
     ]
    },
    {
     "name": "stderr",
     "output_type": "stream",
     "text": [
      "C:\\Users\\HOME\\anaconda3\\lib\\site-packages\\spacy\\training\\iob_utils.py:141: UserWarning: [W030] Some entities could not be aligned in the text \"پسی ہوئی کالی مرچ 0.25 چائے کا چمچہ\" with entities \"[(0, 17, 'Ingredient'), (18, 19, 'Quantity'), (20,...\". Use `spacy.training.offsets_to_biluo_tags(nlp.make_doc(text), entities)` to check the alignment. Misaligned entities ('-') will be ignored during training.\n",
      "  warnings.warn(\n",
      "C:\\Users\\HOME\\anaconda3\\lib\\site-packages\\spacy\\training\\iob_utils.py:141: UserWarning: [W030] Some entities could not be aligned in the text \"پانی  3 پیالی\" with entities \"[(0, 5, 'Ingredient'), (6, 7, 'Quantity'), (8, 13,...\". Use `spacy.training.offsets_to_biluo_tags(nlp.make_doc(text), entities)` to check the alignment. Misaligned entities ('-') will be ignored during training.\n",
      "  warnings.warn(\n"
     ]
    },
    {
     "name": "stdout",
     "output_type": "stream",
     "text": [
      "Epoch 10 - Time taken: 0.53 seconds\n",
      "Epoch 11 - Time taken: 0.59 seconds\n",
      "Epoch 12 - Time taken: 0.65 seconds\n",
      "Epoch 13 - Time taken: 0.68 seconds\n",
      "Epoch 14 - Time taken: 0.74 seconds\n"
     ]
    },
    {
     "name": "stderr",
     "output_type": "stream",
     "text": [
      "C:\\Users\\HOME\\anaconda3\\lib\\site-packages\\spacy\\training\\iob_utils.py:141: UserWarning: [W030] Some entities could not be aligned in the text \"پسی کا لی مرچ  0.25 چائے کا چمچہ\" with entities \"[(0, 14, 'Ingredient'), (15, 16, 'Quantity'), (17,...\". Use `spacy.training.offsets_to_biluo_tags(nlp.make_doc(text), entities)` to check the alignment. Misaligned entities ('-') will be ignored during training.\n",
      "  warnings.warn(\n",
      "C:\\Users\\HOME\\anaconda3\\lib\\site-packages\\spacy\\training\\iob_utils.py:141: UserWarning: [W030] Some entities could not be aligned in the text \"آلو بخارے 200 گرام\" with entities \"[(0, 9, 'Ingredient'), (10, 11, 'Quantity'), (12, ...\". Use `spacy.training.offsets_to_biluo_tags(nlp.make_doc(text), entities)` to check the alignment. Misaligned entities ('-') will be ignored during training.\n",
      "  warnings.warn(\n"
     ]
    },
    {
     "name": "stdout",
     "output_type": "stream",
     "text": [
      "Epoch 15 - Time taken: 0.81 seconds\n",
      "Epoch 16 - Time taken: 0.86 seconds\n",
      "Epoch 17 - Time taken: 0.92 seconds\n",
      "Epoch 18 - Time taken: 0.99 seconds\n"
     ]
    },
    {
     "name": "stderr",
     "output_type": "stream",
     "text": [
      "C:\\Users\\HOME\\anaconda3\\lib\\site-packages\\spacy\\training\\iob_utils.py:141: UserWarning: [W030] Some entities could not be aligned in the text \"مسو ر کی دال 50 گرام\" with entities \"[(0, 12, 'Ingredient'), (13, 14, 'Quantity'), (15,...\". Use `spacy.training.offsets_to_biluo_tags(nlp.make_doc(text), entities)` to check the alignment. Misaligned entities ('-') will be ignored during training.\n",
      "  warnings.warn(\n",
      "C:\\Users\\HOME\\anaconda3\\lib\\site-packages\\spacy\\training\\iob_utils.py:141: UserWarning: [W030] Some entities could not be aligned in the text \"لہسن 2_3 جوے\" with entities \"[(0, 4, 'Ingredient'), (5, 6, 'Quantity'), (7, 12,...\". Use `spacy.training.offsets_to_biluo_tags(nlp.make_doc(text), entities)` to check the alignment. Misaligned entities ('-') will be ignored during training.\n",
      "  warnings.warn(\n"
     ]
    },
    {
     "name": "stdout",
     "output_type": "stream",
     "text": [
      "Epoch 19 - Time taken: 1.05 seconds\n",
      "Epoch 20 - Time taken: 1.10 seconds\n",
      "Epoch 21 - Time taken: 1.15 seconds\n",
      "Epoch 22 - Time taken: 1.22 seconds\n",
      "Epoch 23 - Time taken: 1.28 seconds\n",
      "Epoch 24 - Time taken: 1.33 seconds\n",
      "Epoch 25 - Time taken: 1.37 seconds\n",
      "Epoch 26 - Time taken: 1.42 seconds\n"
     ]
    },
    {
     "name": "stderr",
     "output_type": "stream",
     "text": [
      "C:\\Users\\HOME\\anaconda3\\lib\\site-packages\\spacy\\training\\iob_utils.py:141: UserWarning: [W030] Some entities could not be aligned in the text \"کوکنگ چاکلیٹ 300 گرام\" with entities \"[(0, 12, 'Ingredient'), (13, 14, 'Quantity'), (15,...\". Use `spacy.training.offsets_to_biluo_tags(nlp.make_doc(text), entities)` to check the alignment. Misaligned entities ('-') will be ignored during training.\n",
      "  warnings.warn(\n"
     ]
    },
    {
     "name": "stdout",
     "output_type": "stream",
     "text": [
      "Epoch 27 - Time taken: 1.48 seconds\n",
      "Epoch 28 - Time taken: 1.54 seconds\n",
      "Epoch 29 - Time taken: 1.60 seconds\n",
      "Epoch 30 - Time taken: 1.65 seconds\n"
     ]
    },
    {
     "name": "stderr",
     "output_type": "stream",
     "text": [
      "C:\\Users\\HOME\\anaconda3\\lib\\site-packages\\spacy\\training\\iob_utils.py:141: UserWarning: [W030] Some entities could not be aligned in the text \"ادرک لہسن کاپیسٹ  2  کھانے کا چمچہ\" with entities \"[(0, 17, 'Ingredient'), (18, 19, 'Quantity'), (20,...\". Use `spacy.training.offsets_to_biluo_tags(nlp.make_doc(text), entities)` to check the alignment. Misaligned entities ('-') will be ignored during training.\n",
      "  warnings.warn(\n"
     ]
    },
    {
     "name": "stdout",
     "output_type": "stream",
     "text": [
      "Epoch 31 - Time taken: 1.71 seconds\n",
      "Epoch 32 - Time taken: 1.77 seconds\n",
      "Epoch 33 - Time taken: 1.81 seconds\n",
      "Epoch 34 - Time taken: 1.86 seconds\n",
      "Epoch 35 - Time taken: 1.90 seconds\n"
     ]
    },
    {
     "name": "stderr",
     "output_type": "stream",
     "text": [
      "C:\\Users\\HOME\\anaconda3\\lib\\site-packages\\spacy\\training\\iob_utils.py:141: UserWarning: [W030] Some entities could not be aligned in the text \"مکھن 100 گرام\" with entities \"[(0, 4, 'Ingredient'), (5, 6, 'Quantity'), (7, 13,...\". Use `spacy.training.offsets_to_biluo_tags(nlp.make_doc(text), entities)` to check the alignment. Misaligned entities ('-') will be ignored during training.\n",
      "  warnings.warn(\n"
     ]
    },
    {
     "name": "stdout",
     "output_type": "stream",
     "text": [
      "Epoch 36 - Time taken: 1.96 seconds\n",
      "Epoch 37 - Time taken: 2.03 seconds\n",
      "Epoch 38 - Time taken: 2.07 seconds\n",
      "Epoch 39 - Time taken: 2.11 seconds\n",
      "Epoch 40 - Time taken: 2.17 seconds\n",
      "Epoch 41 - Time taken: 2.23 seconds\n",
      "Epoch 42 - Time taken: 2.30 seconds\n",
      "Epoch 43 - Time taken: 2.34 seconds\n"
     ]
    },
    {
     "name": "stderr",
     "output_type": "stream",
     "text": [
      "C:\\Users\\HOME\\anaconda3\\lib\\site-packages\\spacy\\training\\iob_utils.py:141: UserWarning: [W030] Some entities could not be aligned in the text \"ٹماٹر  2 عدد\" with entities \"[(0, 6, 'Ingredient'), (7, 8, 'Quantity'), (9, 12,...\". Use `spacy.training.offsets_to_biluo_tags(nlp.make_doc(text), entities)` to check the alignment. Misaligned entities ('-') will be ignored during training.\n",
      "  warnings.warn(\n",
      "C:\\Users\\HOME\\anaconda3\\lib\\site-packages\\spacy\\training\\iob_utils.py:141: UserWarning: [W030] Some entities could not be aligned in the text \"بکرے کا گوشت 1½\n",
      " کلو\" with entities \"[(0, 12, 'Ingredient'), (13, 14, 'Quantity'), (15,...\". Use `spacy.training.offsets_to_biluo_tags(nlp.make_doc(text), entities)` to check the alignment. Misaligned entities ('-') will be ignored during training.\n",
      "  warnings.warn(\n"
     ]
    },
    {
     "name": "stdout",
     "output_type": "stream",
     "text": [
      "Epoch 44 - Time taken: 2.39 seconds\n",
      "Epoch 45 - Time taken: 2.44 seconds\n",
      "Epoch 46 - Time taken: 2.50 seconds\n",
      "Epoch 47 - Time taken: 2.54 seconds\n",
      "Epoch 48 - Time taken: 2.59 seconds\n"
     ]
    },
    {
     "name": "stderr",
     "output_type": "stream",
     "text": [
      "C:\\Users\\HOME\\anaconda3\\lib\\site-packages\\spacy\\training\\iob_utils.py:141: UserWarning: [W030] Some entities could not be aligned in the text \"لیموں  2 عدد\" with entities \"[(0, 6, 'Ingredient'), (7, 8, 'Quantity'), (9, 12,...\". Use `spacy.training.offsets_to_biluo_tags(nlp.make_doc(text), entities)` to check the alignment. Misaligned entities ('-') will be ignored during training.\n",
      "  warnings.warn(\n"
     ]
    },
    {
     "name": "stdout",
     "output_type": "stream",
     "text": [
      "Epoch 49 - Time taken: 2.66 seconds\n",
      "Epoch 50 - Time taken: 2.72 seconds\n",
      "Epoch 51 - Time taken: 2.79 seconds\n",
      "Epoch 52 - Time taken: 2.86 seconds\n"
     ]
    },
    {
     "name": "stderr",
     "output_type": "stream",
     "text": [
      "C:\\Users\\HOME\\anaconda3\\lib\\site-packages\\spacy\\training\\iob_utils.py:141: UserWarning: [W030] Some entities could not be aligned in the text \"ابلے بادام 10 عدد\" with entities \"[(0, 10, 'Ingredient'), (11, 12, 'Quantity'), (13,...\". Use `spacy.training.offsets_to_biluo_tags(nlp.make_doc(text), entities)` to check the alignment. Misaligned entities ('-') will be ignored during training.\n",
      "  warnings.warn(\n",
      "C:\\Users\\HOME\\anaconda3\\lib\\site-packages\\spacy\\training\\iob_utils.py:141: UserWarning: [W030] Some entities could not be aligned in the text \"میدہ  4  کھانے کا چمچہ\" with entities \"[(0, 5, 'Ingredient'), (6, 7, 'Quantity'), (8, 22,...\". Use `spacy.training.offsets_to_biluo_tags(nlp.make_doc(text), entities)` to check the alignment. Misaligned entities ('-') will be ignored during training.\n",
      "  warnings.warn(\n",
      "C:\\Users\\HOME\\anaconda3\\lib\\site-packages\\spacy\\training\\iob_utils.py:141: UserWarning: [W030] Some entities could not be aligned in the text \"پودین 0.25  گٹھی\" with entities \"[(0, 5, 'Ingredient'), (6, 7, 'Quantity'), (8, 16,...\". Use `spacy.training.offsets_to_biluo_tags(nlp.make_doc(text), entities)` to check the alignment. Misaligned entities ('-') will be ignored during training.\n",
      "  warnings.warn(\n"
     ]
    },
    {
     "name": "stdout",
     "output_type": "stream",
     "text": [
      "Epoch 53 - Time taken: 2.93 seconds\n",
      "Epoch 54 - Time taken: 2.99 seconds\n",
      "Epoch 55 - Time taken: 3.05 seconds\n",
      "Epoch 56 - Time taken: 3.12 seconds\n",
      "Epoch 57 - Time taken: 3.19 seconds\n",
      "Epoch 58 - Time taken: 3.27 seconds\n",
      "Epoch 59 - Time taken: 3.34 seconds\n"
     ]
    },
    {
     "name": "stderr",
     "output_type": "stream",
     "text": [
      "C:\\Users\\HOME\\anaconda3\\lib\\site-packages\\spacy\\training\\iob_utils.py:141: UserWarning: [W030] Some entities could not be aligned in the text \"بڑے جھینگے 300 گرام\" with entities \"[(0, 10, 'Ingredient'), (11, 12, 'Quantity'), (13,...\". Use `spacy.training.offsets_to_biluo_tags(nlp.make_doc(text), entities)` to check the alignment. Misaligned entities ('-') will be ignored during training.\n",
      "  warnings.warn(\n"
     ]
    },
    {
     "name": "stdout",
     "output_type": "stream",
     "text": [
      "Epoch 60 - Time taken: 3.41 seconds\n",
      "Epoch 61 - Time taken: 3.47 seconds\n",
      "Epoch 62 - Time taken: 3.53 seconds\n",
      "Epoch 63 - Time taken: 3.61 seconds\n"
     ]
    },
    {
     "name": "stderr",
     "output_type": "stream",
     "text": [
      "C:\\Users\\HOME\\anaconda3\\lib\\site-packages\\spacy\\training\\iob_utils.py:141: UserWarning: [W030] Some entities could not be aligned in the text \"آلو  2_3 عدد\" with entities \"[(0, 4, 'Ingredient'), (5, 6, 'Quantity'), (7, 12,...\". Use `spacy.training.offsets_to_biluo_tags(nlp.make_doc(text), entities)` to check the alignment. Misaligned entities ('-') will be ignored during training.\n",
      "  warnings.warn(\n",
      "C:\\Users\\HOME\\anaconda3\\lib\\site-packages\\spacy\\training\\iob_utils.py:141: UserWarning: [W030] Some entities could not be aligned in the text \"انڈر کٹ 200 گرام\" with entities \"[(0, 7, 'Ingredient'), (8, 9, 'Quantity'), (10, 16...\". Use `spacy.training.offsets_to_biluo_tags(nlp.make_doc(text), entities)` to check the alignment. Misaligned entities ('-') will be ignored during training.\n",
      "  warnings.warn(\n"
     ]
    },
    {
     "name": "stdout",
     "output_type": "stream",
     "text": [
      "Epoch 64 - Time taken: 3.66 seconds\n",
      "Epoch 65 - Time taken: 3.71 seconds\n",
      "Epoch 66 - Time taken: 3.79 seconds\n",
      "Epoch 67 - Time taken: 3.85 seconds\n",
      "Epoch 68 - Time taken: 3.92 seconds\n",
      "Epoch 69 - Time taken: 3.98 seconds\n",
      "Epoch 70 - Time taken: 4.05 seconds\n",
      "Epoch 71 - Time taken: 4.13 seconds\n",
      "Epoch 72 - Time taken: 4.20 seconds\n",
      "Epoch 73 - Time taken: 4.26 seconds\n",
      "Epoch 74 - Time taken: 4.32 seconds\n",
      "Epoch 75 - Time taken: 4.39 seconds\n",
      "Epoch 76 - Time taken: 4.45 seconds\n",
      "Epoch 77 - Time taken: 4.52 seconds\n",
      "Epoch 78 - Time taken: 4.59 seconds\n"
     ]
    },
    {
     "name": "stderr",
     "output_type": "stream",
     "text": [
      "C:\\Users\\HOME\\anaconda3\\lib\\site-packages\\spacy\\training\\iob_utils.py:141: UserWarning: [W030] Some entities could not be aligned in the text \"کاجو 50 گرام\" with entities \"[(0, 4, 'Ingredient'), (5, 6, 'Quantity'), (7, 12,...\". Use `spacy.training.offsets_to_biluo_tags(nlp.make_doc(text), entities)` to check the alignment. Misaligned entities ('-') will be ignored during training.\n",
      "  warnings.warn(\n",
      "C:\\Users\\HOME\\anaconda3\\lib\\site-packages\\spacy\\training\\iob_utils.py:141: UserWarning: [W030] Some entities could not be aligned in the text \"لہسن  5 جوے\" with entities \"[(0, 5, 'Ingredient'), (6, 7, 'Quantity'), (8, 11,...\". Use `spacy.training.offsets_to_biluo_tags(nlp.make_doc(text), entities)` to check the alignment. Misaligned entities ('-') will be ignored during training.\n",
      "  warnings.warn(\n"
     ]
    },
    {
     "name": "stdout",
     "output_type": "stream",
     "text": [
      "Epoch 79 - Time taken: 4.66 seconds\n",
      "Epoch 80 - Time taken: 4.70 seconds\n",
      "Epoch 81 - Time taken: 4.77 seconds\n",
      "Epoch 82 - Time taken: 4.83 seconds\n",
      "Epoch 83 - Time taken: 4.90 seconds\n",
      "Epoch 84 - Time taken: 4.97 seconds\n",
      "Epoch 85 - Time taken: 5.03 seconds\n",
      "Epoch 86 - Time taken: 5.10 seconds\n"
     ]
    },
    {
     "name": "stderr",
     "output_type": "stream",
     "text": [
      "C:\\Users\\HOME\\anaconda3\\lib\\site-packages\\spacy\\training\\iob_utils.py:141: UserWarning: [W030] Some entities could not be aligned in the text \"اُبلی مونگ کی دال 50 گرام\" with entities \"[(0, 17, 'Ingredient'), (18, 19, 'Quantity'), (20,...\". Use `spacy.training.offsets_to_biluo_tags(nlp.make_doc(text), entities)` to check the alignment. Misaligned entities ('-') will be ignored during training.\n",
      "  warnings.warn(\n"
     ]
    },
    {
     "name": "stdout",
     "output_type": "stream",
     "text": [
      "Epoch 87 - Time taken: 5.16 seconds\n",
      "Epoch 88 - Time taken: 5.23 seconds\n",
      "Epoch 89 - Time taken: 5.32 seconds\n",
      "Epoch 90 - Time taken: 5.38 seconds\n",
      "Epoch 91 - Time taken: 5.45 seconds\n",
      "Epoch 92 - Time taken: 5.51 seconds\n",
      "Epoch 93 - Time taken: 5.58 seconds\n"
     ]
    },
    {
     "name": "stderr",
     "output_type": "stream",
     "text": [
      "C:\\Users\\HOME\\anaconda3\\lib\\site-packages\\spacy\\training\\iob_utils.py:141: UserWarning: [W030] Some entities could not be aligned in the text \"پانی 0.25 کپ\" with entities \"[(0, 4, 'Ingredient'), (5, 6, 'Quantity'), (7, 12,...\". Use `spacy.training.offsets_to_biluo_tags(nlp.make_doc(text), entities)` to check the alignment. Misaligned entities ('-') will be ignored during training.\n",
      "  warnings.warn(\n",
      "C:\\Users\\HOME\\anaconda3\\lib\\site-packages\\spacy\\training\\iob_utils.py:141: UserWarning: [W030] Some entities could not be aligned in the text \"چینی  1 پیکٹ\" with entities \"[(0, 5, 'Ingredient'), (6, 7, 'Quantity'), (8, 12,...\". Use `spacy.training.offsets_to_biluo_tags(nlp.make_doc(text), entities)` to check the alignment. Misaligned entities ('-') will be ignored during training.\n",
      "  warnings.warn(\n",
      "C:\\Users\\HOME\\anaconda3\\lib\\site-packages\\spacy\\training\\iob_utils.py:141: UserWarning: [W030] Some entities could not be aligned in the text \"بیف انڈر کٹ 300 گرام\" with entities \"[(0, 11, 'Ingredient'), (12, 13, 'Quantity'), (14,...\". Use `spacy.training.offsets_to_biluo_tags(nlp.make_doc(text), entities)` to check the alignment. Misaligned entities ('-') will be ignored during training.\n",
      "  warnings.warn(\n"
     ]
    },
    {
     "name": "stdout",
     "output_type": "stream",
     "text": [
      "Epoch 94 - Time taken: 5.65 seconds\n",
      "Epoch 95 - Time taken: 5.70 seconds\n",
      "Epoch 96 - Time taken: 5.76 seconds\n",
      "Epoch 97 - Time taken: 5.82 seconds\n"
     ]
    },
    {
     "name": "stderr",
     "output_type": "stream",
     "text": [
      "C:\\Users\\HOME\\anaconda3\\lib\\site-packages\\spacy\\training\\iob_utils.py:141: UserWarning: [W030] Some entities could not be aligned in the text \"چکن بون لیس 300 گرام\" with entities \"[(0, 11, 'Ingredient'), (12, 13, 'Quantity'), (14,...\". Use `spacy.training.offsets_to_biluo_tags(nlp.make_doc(text), entities)` to check the alignment. Misaligned entities ('-') will be ignored during training.\n",
      "  warnings.warn(\n"
     ]
    },
    {
     "name": "stdout",
     "output_type": "stream",
     "text": [
      "Epoch 98 - Time taken: 5.89 seconds\n",
      "Epoch 99 - Time taken: 5.96 seconds\n",
      "Epoch 100 - Time taken: 6.03 seconds\n"
     ]
    },
    {
     "name": "stderr",
     "output_type": "stream",
     "text": [
      "C:\\Users\\HOME\\anaconda3\\lib\\site-packages\\spacy\\training\\iob_utils.py:141: UserWarning: [W030] Some entities could not be aligned in the text \"کڑی پتے 20_25 عدد\" with entities \"[(0, 7, 'Ingredient'), (8, 9, 'Quantity'), (10, 17...\". Use `spacy.training.offsets_to_biluo_tags(nlp.make_doc(text), entities)` to check the alignment. Misaligned entities ('-') will be ignored during training.\n",
      "  warnings.warn(\n"
     ]
    },
    {
     "name": "stdout",
     "output_type": "stream",
     "text": [
      "Epoch 101 - Time taken: 6.11 seconds\n",
      "Epoch 102 - Time taken: 6.18 seconds\n",
      "Epoch 103 - Time taken: 6.26 seconds\n"
     ]
    },
    {
     "name": "stderr",
     "output_type": "stream",
     "text": [
      "C:\\Users\\HOME\\anaconda3\\lib\\site-packages\\spacy\\training\\iob_utils.py:141: UserWarning: [W030] Some entities could not be aligned in the text \"چاول 300 گرام\" with entities \"[(0, 4, 'Ingredient'), (5, 6, 'Quantity'), (7, 13,...\". Use `spacy.training.offsets_to_biluo_tags(nlp.make_doc(text), entities)` to check the alignment. Misaligned entities ('-') will be ignored during training.\n",
      "  warnings.warn(\n"
     ]
    },
    {
     "name": "stdout",
     "output_type": "stream",
     "text": [
      "Epoch 104 - Time taken: 6.31 seconds\n",
      "Epoch 105 - Time taken: 6.39 seconds\n",
      "Epoch 106 - Time taken: 6.46 seconds\n",
      "Epoch 107 - Time taken: 6.51 seconds\n",
      "Epoch 108 - Time taken: 6.57 seconds\n",
      "Epoch 109 - Time taken: 6.64 seconds\n",
      "Epoch 110 - Time taken: 6.70 seconds\n",
      "Epoch 111 - Time taken: 6.77 seconds\n"
     ]
    },
    {
     "name": "stderr",
     "output_type": "stream",
     "text": [
      "C:\\Users\\HOME\\anaconda3\\lib\\site-packages\\spacy\\training\\iob_utils.py:141: UserWarning: [W030] Some entities could not be aligned in the text \"چکن (14 ٹکڑے) ½-1 کلو\" with entities \"[(0, 4, 'Ingredient'), (5, 6, 'Quantity'), (7, 21,...\". Use `spacy.training.offsets_to_biluo_tags(nlp.make_doc(text), entities)` to check the alignment. Misaligned entities ('-') will be ignored during training.\n",
      "  warnings.warn(\n"
     ]
    },
    {
     "name": "stdout",
     "output_type": "stream",
     "text": [
      "Epoch 112 - Time taken: 6.84 seconds\n",
      "Epoch 113 - Time taken: 6.89 seconds\n",
      "Epoch 114 - Time taken: 6.97 seconds\n",
      "Epoch 115 - Time taken: 7.04 seconds\n",
      "Epoch 116 - Time taken: 7.10 seconds\n",
      "Epoch 117 - Time taken: 7.15 seconds\n",
      "Epoch 118 - Time taken: 7.22 seconds\n",
      "Epoch 119 - Time taken: 7.27 seconds\n",
      "Epoch 120 - Time taken: 7.33 seconds\n",
      "Epoch 121 - Time taken: 7.38 seconds\n",
      "Epoch 122 - Time taken: 7.43 seconds\n",
      "Epoch 123 - Time taken: 7.49 seconds\n"
     ]
    },
    {
     "name": "stderr",
     "output_type": "stream",
     "text": [
      "C:\\Users\\HOME\\anaconda3\\lib\\site-packages\\spacy\\training\\iob_utils.py:141: UserWarning: [W030] Some entities could not be aligned in the text \"ثابت لال مرچ  5 عدد\" with entities \"[(0, 13, 'Ingredient'), (14, 15, 'Quantity'), (16,...\". Use `spacy.training.offsets_to_biluo_tags(nlp.make_doc(text), entities)` to check the alignment. Misaligned entities ('-') will be ignored during training.\n",
      "  warnings.warn(\n"
     ]
    },
    {
     "name": "stdout",
     "output_type": "stream",
     "text": [
      "Epoch 124 - Time taken: 7.56 seconds\n",
      "Epoch 125 - Time taken: 7.61 seconds\n",
      "Epoch 126 - Time taken: 7.67 seconds\n",
      "Epoch 127 - Time taken: 7.73 seconds\n",
      "Epoch 128 - Time taken: 7.80 seconds\n",
      "Epoch 129 - Time taken: 7.86 seconds\n",
      "Epoch 130 - Time taken: 7.93 seconds\n",
      "Epoch 131 - Time taken: 8.00 seconds\n"
     ]
    },
    {
     "name": "stderr",
     "output_type": "stream",
     "text": [
      "C:\\Users\\HOME\\anaconda3\\lib\\site-packages\\spacy\\training\\iob_utils.py:141: UserWarning: [W030] Some entities could not be aligned in the text \"ہری مرچ 6_8 عدد\" with entities \"[(0, 7, 'Ingredient'), (8, 9, 'Quantity'), (10, 15...\". Use `spacy.training.offsets_to_biluo_tags(nlp.make_doc(text), entities)` to check the alignment. Misaligned entities ('-') will be ignored during training.\n",
      "  warnings.warn(\n"
     ]
    },
    {
     "name": "stdout",
     "output_type": "stream",
     "text": [
      "Epoch 132 - Time taken: 8.08 seconds\n",
      "Epoch 133 - Time taken: 8.15 seconds\n",
      "Epoch 134 - Time taken: 8.22 seconds\n",
      "Epoch 135 - Time taken: 8.28 seconds\n",
      "Epoch 136 - Time taken: 8.34 seconds\n",
      "Epoch 137 - Time taken: 8.41 seconds\n",
      "Epoch 138 - Time taken: 8.48 seconds\n"
     ]
    },
    {
     "name": "stderr",
     "output_type": "stream",
     "text": [
      "C:\\Users\\HOME\\anaconda3\\lib\\site-packages\\spacy\\training\\iob_utils.py:141: UserWarning: [W030] Some entities could not be aligned in the text \"لال آٹا  4 چائے کا چمچہ\" with entities \"[(0, 8, 'Ingredient'), (9, 10, 'Quantity'), (11, 2...\". Use `spacy.training.offsets_to_biluo_tags(nlp.make_doc(text), entities)` to check the alignment. Misaligned entities ('-') will be ignored during training.\n",
      "  warnings.warn(\n"
     ]
    },
    {
     "name": "stdout",
     "output_type": "stream",
     "text": [
      "Epoch 139 - Time taken: 8.55 seconds\n",
      "Epoch 140 - Time taken: 8.63 seconds\n",
      "Epoch 141 - Time taken: 8.71 seconds\n",
      "Epoch 142 - Time taken: 8.78 seconds\n",
      "Epoch 143 - Time taken: 8.85 seconds\n",
      "Epoch 144 - Time taken: 8.91 seconds\n",
      "Epoch 145 - Time taken: 8.98 seconds\n",
      "Epoch 146 - Time taken: 9.07 seconds\n",
      "Epoch 147 - Time taken: 9.15 seconds\n",
      "Epoch 148 - Time taken: 9.22 seconds\n",
      "Epoch 149 - Time taken: 9.28 seconds\n",
      "Epoch 150 - Time taken: 9.34 seconds\n",
      "Epoch 151 - Time taken: 9.40 seconds\n",
      "Epoch 152 - Time taken: 9.48 seconds\n",
      "Epoch 153 - Time taken: 9.54 seconds\n",
      "Epoch 154 - Time taken: 9.58 seconds\n",
      "Epoch 155 - Time taken: 9.63 seconds\n",
      "Epoch 156 - Time taken: 9.69 seconds\n"
     ]
    },
    {
     "name": "stderr",
     "output_type": "stream",
     "text": [
      "C:\\Users\\HOME\\anaconda3\\lib\\site-packages\\spacy\\training\\iob_utils.py:141: UserWarning: [W030] Some entities could not be aligned in the text \"پیاز  1 عدد\" with entities \"[(0, 5, 'Ingredient'), (6, 7, 'Quantity'), (8, 11,...\". Use `spacy.training.offsets_to_biluo_tags(nlp.make_doc(text), entities)` to check the alignment. Misaligned entities ('-') will be ignored during training.\n",
      "  warnings.warn(\n",
      "C:\\Users\\HOME\\anaconda3\\lib\\site-packages\\spacy\\training\\iob_utils.py:141: UserWarning: [W030] Some entities could not be aligned in the text \"پسا دھنیا  1 چائے کا چمچہ\" with entities \"[(0, 10, 'Ingredient'), (11, 12, 'Quantity'), (13,...\". Use `spacy.training.offsets_to_biluo_tags(nlp.make_doc(text), entities)` to check the alignment. Misaligned entities ('-') will be ignored during training.\n",
      "  warnings.warn(\n"
     ]
    },
    {
     "name": "stdout",
     "output_type": "stream",
     "text": [
      "Epoch 157 - Time taken: 9.75 seconds\n",
      "Epoch 158 - Time taken: 9.81 seconds\n",
      "Epoch 159 - Time taken: 9.87 seconds\n",
      "Epoch 160 - Time taken: 9.93 seconds\n",
      "Epoch 161 - Time taken: 9.98 seconds\n",
      "Epoch 162 - Time taken: 10.05 seconds\n",
      "Epoch 163 - Time taken: 10.10 seconds\n",
      "Epoch 164 - Time taken: 10.15 seconds\n",
      "Epoch 165 - Time taken: 10.18 seconds\n",
      "Epoch 166 - Time taken: 10.24 seconds\n",
      "Epoch 167 - Time taken: 10.30 seconds\n",
      "Epoch 168 - Time taken: 10.35 seconds\n",
      "Epoch 169 - Time taken: 10.39 seconds\n",
      "Epoch 170 - Time taken: 10.44 seconds\n"
     ]
    },
    {
     "name": "stderr",
     "output_type": "stream",
     "text": [
      "C:\\Users\\HOME\\anaconda3\\lib\\site-packages\\spacy\\training\\iob_utils.py:141: UserWarning: [W030] Some entities could not be aligned in the text \"سیلا چاول ½-2 پیالی\" with entities \"[(0, 11, 'Ingredient'), (12, 13, 'Quantity'), (14,...\". Use `spacy.training.offsets_to_biluo_tags(nlp.make_doc(text), entities)` to check the alignment. Misaligned entities ('-') will be ignored during training.\n",
      "  warnings.warn(\n"
     ]
    },
    {
     "name": "stdout",
     "output_type": "stream",
     "text": [
      "Epoch 171 - Time taken: 10.50 seconds\n",
      "Epoch 172 - Time taken: 10.54 seconds\n",
      "Epoch 173 - Time taken: 10.60 seconds\n",
      "Epoch 174 - Time taken: 10.64 seconds\n",
      "Epoch 175 - Time taken: 10.70 seconds\n",
      "Epoch 176 - Time taken: 10.76 seconds\n",
      "Epoch 177 - Time taken: 10.82 seconds\n",
      "Epoch 178 - Time taken: 10.89 seconds\n",
      "Epoch 179 - Time taken: 10.94 seconds\n",
      "Epoch 180 - Time taken: 10.99 seconds\n",
      "Epoch 181 - Time taken: 11.04 seconds\n",
      "Epoch 182 - Time taken: 11.09 seconds\n",
      "Epoch 183 - Time taken: 11.14 seconds\n",
      "Epoch 184 - Time taken: 11.18 seconds\n",
      "Epoch 185 - Time taken: 11.22 seconds\n",
      "Epoch 186 - Time taken: 11.27 seconds\n",
      "Epoch 187 - Time taken: 11.31 seconds\n",
      "Epoch 188 - Time taken: 11.37 seconds\n",
      "Epoch 189 - Time taken: 11.41 seconds\n",
      "Epoch 190 - Time taken: 11.46 seconds\n",
      "Epoch 191 - Time taken: 11.51 seconds\n",
      "Epoch 192 - Time taken: 11.55 seconds\n",
      "Epoch 193 - Time taken: 11.59 seconds\n",
      "Epoch 194 - Time taken: 11.63 seconds\n",
      "Epoch 195 - Time taken: 11.67 seconds\n",
      "Epoch 196 - Time taken: 11.72 seconds\n",
      "Epoch 197 - Time taken: 11.76 seconds\n",
      "Epoch 198 - Time taken: 11.80 seconds\n",
      "Epoch 199 - Time taken: 11.84 seconds\n",
      "Epoch 200 - Time taken: 11.89 seconds\n"
     ]
    }
   ],
   "source": [
    "# Train the NER model\n",
    "n_iter = 200\n",
    "batch_size = 4\n",
    "optimizer = nlp.begin_training()\n",
    "\n",
    "start_time = time()\n",
    "for i in range(n_iter):\n",
    "    losses = {}\n",
    "    random.shuffle(train_data)\n",
    "    batches = minibatch(train_data, size=compounding(batch_size, 32, 0.051))\n",
    "    for batch in batches:\n",
    "        text, annotations = batch[0]\n",
    "        doc = nlp.make_doc(text)\n",
    "        example = Example.from_dict(doc, annotations)\n",
    "        nlp.update([example], drop=0.35, sgd=optimizer, losses=losses)\n",
    "        epoch_loss = losses[\"ner\"]\n",
    "    print(f\"Epoch {i+1} - Time taken: {time()-start_time:.2f} seconds\")\n",
    "\n",
    "\n"
   ]
  },
  {
   "attachments": {},
   "cell_type": "markdown",
   "metadata": {
    "editable": false
   },
   "source": [
    "## Test the Model "
   ]
  },
  {
   "cell_type": "code",
   "execution_count": 52,
   "metadata": {
    "editable": false,
    "execution": {
     "iopub.execute_input": "2023-05-06T10:25:53.140147Z",
     "iopub.status.busy": "2023-05-06T10:25:53.139217Z",
     "iopub.status.idle": "2023-05-06T10:25:53.575813Z",
     "shell.execute_reply": "2023-05-06T10:25:53.574801Z",
     "shell.execute_reply.started": "2023-05-06T10:25:53.140093Z"
    }
   },
   "outputs": [
    {
     "name": "stdout",
     "output_type": "stream",
     "text": [
      "Text: ادرک لہسن کا پیسٹ 1 چائے کا چمچہ\n",
      "Entities: [('ادرک لہسن کا پیسٹ', 'Ingredient'), ('1', 'Quantity'), ('چائے کا چمچہ', 'Unit')]\n",
      "\n",
      "Text: تیل 0.25 کپ\n",
      "Entities: [('تیل 0.25 کپ', 'Ingredient')]\n",
      "\n",
      "Text: مکئی کا آٹا 2 پیالی\n",
      "Entities: [('مکئی کا آٹا', 'Ingredient'), ('2', 'Quantity'), ('پیالی', 'Unit')]\n",
      "\n",
      "Text: پانی 1 کپ\n",
      "Entities: [('پانی', 'Ingredient'), ('1', 'Quantity'), ('کپ', 'Unit')]\n",
      "\n",
      "Text: پسا گرم مصالحہ 1 چائے کا چمچہ\n",
      "Entities: [('پسا گرم مصالحہ', 'Ingredient'), ('1', 'Quantity'), ('چائے کا چمچہ', 'Unit')]\n",
      "\n",
      "Text: پانی 1 ½ گلاس\n",
      "Entities: [('پانی', 'Ingredient'), ('1', 'Quantity'), ('½', 'Unit'), ('گلاس', 'Ingredient')]\n",
      "\n",
      "Text: ہری الائچی 4 عدد\n",
      "Entities: [('ہری الائچی', 'Ingredient'), ('4', 'Quantity'), ('عدد', 'Unit')]\n",
      "\n",
      "Text: پیاز  1 عدد\n",
      "Entities: [('پیاز\\xa0 ', 'Ingredient'), ('1', 'Quantity'), ('عدد', 'Unit')]\n",
      "\n",
      "Text: سونٹھ 2 ٹکڑے\n",
      "Entities: [('سونٹھ', 'Ingredient'), ('2', 'Quantity'), ('ٹکڑے', 'Unit')]\n",
      "\n",
      "Text: رائی دانے 2 چائے کا چمچہ\n",
      "Entities: [('رائی دانے', 'Ingredient'), ('2', 'Quantity'), ('چائے کا چمچہ', 'Unit')]\n",
      "\n",
      "Text: سادہ آتا 1 پیالی\n",
      "Entities: [('سادہ آتا', 'Ingredient'), ('1', 'Quantity'), ('پیالی', 'Unit')]\n",
      "\n",
      "Text: کٹی کالی مرچ 1 چائے کا چمچہ\n",
      "Entities: [('کٹی کالی مرچ', 'Ingredient'), ('1', 'Quantity'), ('چائے کا چمچہ', 'Unit')]\n",
      "\n",
      "Text: کٹی لال مرچ 1 کھانے کا چمچہ\n",
      "Entities: [('کٹی لال مرچ', 'Ingredient'), ('1', 'Quantity'), ('کھانے کا چمچہ', 'Unit')]\n",
      "\n",
      "Text: انڈا 1 عدد\n",
      "Entities: [('انڈا', 'Ingredient'), ('1', 'Quantity'), ('عدد', 'Unit')]\n",
      "\n",
      "Text: پسی ہوئی ہلدی 1 چائے کا چمچہ\n",
      "Entities: [('پسی ہوئی ہلدی', 'Ingredient'), ('1', 'Quantity'), ('چائے کا چمچہ', 'Unit')]\n",
      "\n",
      "Text: ابلی میکرونی 1 پیالی\n",
      "Entities: [('ابلی میکرونی', 'Ingredient'), ('1', 'Quantity'), ('پیالی', 'Unit')]\n",
      "\n",
      "Text: ثابت کالی مرچ 6 عدد\n",
      "Entities: [('ثابت کالی مرچ', 'Ingredient'), ('6', 'Quantity'), ('عدد', 'Unit')]\n",
      "\n",
      "Text: بلدی 1 چائے کا چمچہ\n",
      "Entities: [('بلدی', 'Ingredient'), ('1', 'Quantity'), ('چائے کا چمچہ', 'Unit')]\n",
      "\n",
      "Text: میدہ 3 کھانے کا چمچہ\n",
      "Entities: [('میدہ', 'Ingredient'), ('3', 'Quantity'), ('کھانے کا چمچہ', 'Unit')]\n",
      "\n",
      "Text: انڈہ 1 عدد\n",
      "Entities: [('انڈہ', 'Ingredient'), ('1', 'Quantity'), ('عدد', 'Unit')]\n",
      "\n",
      "Text: بریڈ سلائس 4 عدد\n",
      "Entities: [('بریڈ سلائس', 'Ingredient'), ('4', 'Quantity'), ('عدد', 'Unit')]\n",
      "\n",
      "Text: تیل 1 پیالی\n",
      "Entities: [('تیل', 'Ingredient'), ('1', 'Quantity'), ('پیالی', 'Unit')]\n",
      "\n",
      "Text: پارسلے 2  کھانے کا چمچہ\n",
      "Entities: [('پارسلے', 'Ingredient'), ('2', 'Quantity')]\n",
      "\n",
      "Text: انڈر کٹ 300 گرام\n",
      "Entities: [('انڈر کٹ 300 گرام', 'Ingredient')]\n",
      "\n",
      "Text: مشروم سلائس 1 ٹن\n",
      "Entities: [('مشروم سلائس', 'Ingredient'), ('1', 'Quantity'), ('ٹن', 'Unit')]\n",
      "\n",
      "Text: چینی 2 پیالی\n",
      "Entities: [('چینی', 'Ingredient'), ('2', 'Quantity'), ('پیالی', 'Unit')]\n",
      "\n",
      "Text: میدہ 1  پیالی\n",
      "Entities: [('میدہ', 'Ingredient'), ('1', 'Quantity'), ('پیالی', 'Unit')]\n",
      "\n",
      "Text: ثابت ہری مرچ 6 عدد\n",
      "Entities: [('ثابت ہری مرچ', 'Ingredient'), ('6', 'Quantity'), ('عدد', 'Unit')]\n",
      "\n",
      "Text: دہی 1 پیالی\n",
      "Entities: [('دہی', 'Ingredient'), ('1', 'Quantity'), ('پیالی', 'Unit')]\n",
      "\n",
      "Text: باریک کٹی پیاز 4 عدد\n",
      "Entities: [('باریک کٹی پیاز', 'Ingredient'), ('4', 'Quantity'), ('عدد', 'Unit')]\n",
      "\n",
      "Text: ثابت دھنیا 1  کھانے کا چمچہ\n",
      "Entities: [('ثابت دھنیا', 'Ingredient'), ('1', 'Quantity')]\n",
      "\n",
      "Text: لمبی باریک کٹی ہری مرچ 4 عدد\n",
      "Entities: [('لمبی باریک کٹی ہری مرچ', 'Ingredient'), ('4', 'Quantity'), ('عدد', 'Unit')]\n",
      "\n",
      "Text: کوکونٹ ملک 1 کپ\n",
      "Entities: [('کوکونٹ ملک', 'Ingredient'), ('1', 'Quantity'), ('کپ', 'Unit')]\n",
      "\n",
      "Text:  ڈارک سویا سوس 3  کھانے کا چمچہ\n",
      "Entities: [('سویا سوس', 'Ingredient'), ('3', 'Quantity')]\n",
      "\n",
      "Text: کٹی لال مرچ ½-1 چائے کا چمچہ\n",
      "Entities: [('کٹی لال مرچ', 'Ingredient'), ('½-1', 'Quantity'), ('چائے کا چمچہ', 'Unit')]\n",
      "\n",
      "Text: ہری پیاز 1 کپ\n",
      "Entities: [('ہری پیاز', 'Ingredient'), ('1', 'Quantity'), ('کپ', 'Unit')]\n",
      "\n",
      "Text: ثابت کالی مرچ 6 عدد\n",
      "Entities: [('ثابت کالی مرچ', 'Ingredient'), ('6', 'Quantity'), ('عدد', 'Unit')]\n",
      "\n",
      "Text: پیاز 1 عدد\n",
      "Entities: [('پیاز', 'Ingredient'), ('1', 'Quantity'), ('عدد', 'Unit')]\n",
      "\n",
      "Text: انڈہ 1 عدد\n",
      "Entities: [('انڈہ', 'Ingredient'), ('1', 'Quantity'), ('عدد', 'Unit')]\n",
      "\n",
      "Text: چاول 2 پیالی\n",
      "Entities: [('چاول', 'Ingredient'), ('2', 'Quantity'), ('پیالی', 'Unit')]\n",
      "\n",
      "Text: پسا گرم مصالحہ 1 چائے کا چمچہ\n",
      "Entities: [('پسا گرم مصالحہ', 'Ingredient'), ('1', 'Quantity'), ('چائے کا چمچہ', 'Unit')]\n",
      "\n",
      "Text: گھی 1 کھانے کا چمچہ\n",
      "Entities: [('گھی', 'Ingredient'), ('1', 'Quantity'), ('کھانے کا چمچہ', 'Unit')]\n",
      "\n",
      "Text: ہری مرچ 8 عدد\n",
      "Entities: [('ہری مرچ', 'Ingredient'), ('8', 'Quantity'), ('عدد', 'Unit')]\n",
      "\n",
      "Text: شملہ مرچ  1 عدد\n",
      "Entities: [('شملہ مرچ\\xa0 ', 'Ingredient'), ('1', 'Quantity'), ('عدد', 'Unit')]\n",
      "\n",
      "Text: املی 1 پیکٹ\n",
      "Entities: [('املی', 'Ingredient'), ('1', 'Quantity'), ('پیکٹ', 'Unit')]\n",
      "\n",
      "Text: چاول 2 پیالی\n",
      "Entities: [('چاول', 'Ingredient'), ('2', 'Quantity'), ('پیالی', 'Unit')]\n",
      "\n",
      "Text: کٹی کالی مرچ 1 چائے کا چمچہ\n",
      "Entities: [('کٹی کالی مرچ', 'Ingredient'), ('1', 'Quantity'), ('چائے کا چمچہ', 'Unit')]\n",
      "\n",
      "Text: تیل 0.25  کپ\n",
      "Entities: [('تیل 0.25 \\xa0', 'Ingredient'), ('کپ', 'Unit')]\n",
      "\n",
      "Text: پیاز 2 عدد\n",
      "Entities: [('پیاز', 'Ingredient'), ('2', 'Quantity'), ('عدد', 'Unit')]\n",
      "\n",
      "Text: چھوٹی الائچی 4 عدد\n",
      "Entities: [('چھوٹی الائچی', 'Ingredient'), ('4', 'Quantity'), ('عدد', 'Unit')]\n",
      "\n",
      "Text: لہسن کاپیسٹ 1  کھانے کا چمچہ\n",
      "Entities: [('لہسن کاپیسٹ', 'Ingredient'), ('1', 'Quantity')]\n",
      "\n",
      "Text: لیمن اسکن 1 چائے کا چمچہ\n",
      "Entities: [('لیمن اسکن', 'Ingredient'), ('1', 'Quantity'), ('چائے کا چمچہ', 'Unit')]\n",
      "\n",
      "Text: لیموں 2 عدد\n",
      "Entities: [('لیموں', 'Ingredient'), ('2', 'Quantity'), ('عدد', 'Unit')]\n",
      "\n",
      "Text: تازہ لال مرچ 8 عدد\n",
      "Entities: [('تازہ لال مرچ', 'Ingredient'), ('8', 'Quantity'), ('عدد', 'Unit')]\n",
      "\n",
      "Text: پسا ہوا زیرہ 1 چائے کا چمچہ\n",
      "Entities: [('پسا ہوا زیرہ', 'Ingredient'), ('1', 'Quantity'), ('چائے کا چمچہ', 'Unit')]\n",
      "\n",
      "Text: ثابت کالی مرچ 8 عدد\n",
      "Entities: [('ثابت کالی مرچ', 'Ingredient'), ('8', 'Quantity'), ('عدد', 'Unit')]\n",
      "\n",
      "Text: ہلدی 1 چائے کا چمچہ\n",
      "Entities: [('ہلدی', 'Ingredient'), ('1', 'Quantity'), ('چائے کا چمچہ', 'Unit')]\n",
      "\n",
      "Text: سویا سوس 2  کھانے کا چمچہ\n",
      "Entities: [('سویا سوس', 'Ingredient'), ('2', 'Quantity')]\n",
      "\n",
      "Text: لہسن کے جوے 4 عدد\n",
      "Entities: [('لہسن کے جوے', 'Ingredient'), ('4', 'Quantity'), ('عدد', 'Unit')]\n",
      "\n",
      "Text: کٹی لال مرچ 1 چائے کا چمچہ\n",
      "Entities: [('کٹی لال مرچ', 'Ingredient'), ('1', 'Quantity'), ('چائے کا چمچہ', 'Unit')]\n",
      "\n",
      "Text: پسی لال مرچ 2  کھانے کا چمچہ\n",
      "Entities: [('پسی لال مرچ', 'Ingredient'), ('2', 'Quantity')]\n",
      "\n",
      "Text: کالا زیرہ 1 چائے کا چمچہ\n",
      "Entities: [('کالا زیرہ', 'Ingredient'), ('1', 'Quantity'), ('چائے کا چمچہ', 'Unit')]\n",
      "\n",
      "Text: پیاز 2 عدد\n",
      "Entities: [('پیاز', 'Ingredient'), ('2', 'Quantity'), ('عدد', 'Unit')]\n",
      "\n",
      "Text: کٹا لہسن 1 چائے کا چمچہ\n",
      "Entities: [('کٹا لہسن', 'Ingredient'), ('1', 'Quantity'), ('چائے کا چمچہ', 'Unit')]\n",
      "\n",
      "Text: چکن کیوب و الا میده 1  کھانے کا چمچہ\n",
      "Entities: [('چکن کیوب و الا میده', 'Ingredient'), ('1', 'Quantity')]\n",
      "\n",
      "Text: چھلے مٹر 1 پیالی\n",
      "Entities: [('چھلے مٹر', 'Ingredient'), ('1', 'Quantity'), ('پیالی', 'Unit')]\n",
      "\n",
      "Text: ہری مرچ 10_15 عدد\n",
      "Entities: [('ہری مرچ', 'Ingredient'), ('10_15', 'Quantity'), ('عدد', 'Unit')]\n",
      "\n",
      "Text: چینی 1 کپ\n",
      "Entities: [('چینی', 'Ingredient'), ('1', 'Quantity'), ('کپ', 'Unit')]\n",
      "\n",
      "Text: تیل 1 پیالی\n",
      "Entities: [('تیل', 'Ingredient'), ('1', 'Quantity'), ('پیالی', 'Unit')]\n",
      "\n",
      "Text: اُبلی ملکہ مسور 50 گرام\n",
      "Entities: [('اُبلی ملکہ مسور 50 گرام', 'Ingredient')]\n",
      "\n",
      "Text: بٹن کھمبی 6 عدد\n",
      "Entities: [('بٹن کھمبی', 'Ingredient'), ('6', 'Quantity'), ('عدد', 'Unit')]\n",
      "\n",
      "Text: باریک کٹے ٹماٹر 3 عدد\n",
      "Entities: [('باریک کٹے ٹماٹر', 'Ingredient'), ('3', 'Quantity'), ('عدد', 'Unit')]\n",
      "\n",
      "Text: لہسن کے جوے 4 عدد\n",
      "Entities: [('لہسن کے جوے', 'Ingredient'), ('4', 'Quantity'), ('عدد', 'Unit')]\n",
      "\n",
      "Text: تیل 1 پیالی\n",
      "Entities: [('تیل', 'Ingredient'), ('1', 'Quantity'), ('پیالی', 'Unit')]\n",
      "\n",
      "Text: ٹومیٹو کیچپ 2  کھانے کا چمچہ\n",
      "Entities: [('ٹومیٹو کیچپ', 'Ingredient'), ('2', 'Quantity')]\n",
      "\n",
      "Text: ہری مرچ 10 عدد\n",
      "Entities: [('ہری مرچ 10 عدد', 'Ingredient')]\n",
      "\n",
      "Text: پسا ہوا کچا پپیتا 3 کھانے کا چمچہ\n",
      "Entities: [('پسا ہوا کچا پپیتا', 'Ingredient'), ('3', 'Quantity'), ('کھانے کا چمچہ', 'Unit')]\n",
      "\n",
      "Text: سرسوں کا ساگ 1 کلو\n",
      "Entities: [('سرسوں کا ساگ', 'Ingredient'), ('1', 'Quantity'), ('کلو', 'Unit')]\n",
      "\n",
      "Text: لہسن کے بغیر چھلے جوے 3 عدد\n",
      "Entities: [('لہسن کے بغیر چھلے جوے', 'Ingredient'), ('3', 'Quantity'), ('عدد', 'Unit')]\n",
      "\n",
      "Text: درمیانی پیاز 1 عدد\n",
      "Entities: [('درمیانی پیاز', 'Ingredient'), ('1', 'Quantity'), ('عدد', 'Unit')]\n",
      "\n",
      "Text: باریک کٹی ہری پیاز 2 گٹھی\n",
      "Entities: [('باریک کٹی ہری پیاز', 'Ingredient'), ('2', 'Quantity'), ('گٹھی', 'Unit')]\n",
      "\n",
      "Text: ادرک لہسن کا پیسٹ 1 چائے کا چمچہ\n",
      "Entities: [('ادرک لہسن کا پیسٹ', 'Ingredient'), ('1', 'Quantity'), ('چائے کا چمچہ', 'Unit')]\n",
      "\n",
      "Text: لہسن کا جوے 4 عدد\n",
      "Entities: [('لہسن کا جوے', 'Ingredient'), ('4', 'Quantity'), ('عدد', 'Unit')]\n",
      "\n",
      "Text: ادرک لہسن پیسٹ 2  کھانے کا چمچہ\n",
      "Entities: [('ادرک لہسن پیسٹ', 'Ingredient'), ('2', 'Quantity')]\n",
      "\n",
      "Text: ادرک لہسن کا پیسٹ 2  کھانے کا چمچہ\n",
      "Entities: [('ادرک لہسن کا پیسٹ', 'Ingredient'), ('2', 'Quantity')]\n",
      "\n",
      "Text: میدہ  4  کھانے کا چمچہ\n",
      "Entities: [('میدہ\\xa0 ', 'Ingredient'), ('4', 'Quantity')]\n",
      "\n",
      "Text: تاز ہ لال مرچ 8_10 عدد\n",
      "Entities: [('تاز ہ لال مرچ', 'Ingredient'), ('8_10', 'Quantity'), ('عدد', 'Unit')]\n",
      "\n",
      "Text: ہری مرچ 2 عدد\n",
      "Entities: [('ہری مرچ', 'Ingredient'), ('2', 'Quantity'), ('عدد', 'Unit')]\n",
      "\n",
      "Text: کچی پسی پیاز 2 عدد\n",
      "Entities: [('کچی پسی پیاز', 'Ingredient'), ('2', 'Quantity'), ('عدد', 'Unit')]\n",
      "\n",
      "Text: سوکھی لال مرچ 10 عدد\n",
      "Entities: [('سوکھی لال مرچ', 'Ingredient'), ('10', 'Quantity'), ('عدد', 'Unit')]\n",
      "\n",
      "Text: تیل 3  کھانے کا چمچہ\n",
      "Entities: [('تیل', 'Ingredient'), ('3', 'Quantity')]\n",
      "\n",
      "Text: دودھ 2 کپ\n",
      "Entities: [('دودھ', 'Ingredient'), ('2', 'Quantity'), ('کپ', 'Unit')]\n",
      "\n",
      "Text: تیل 4 کھانے کا چمچہ\n",
      "Entities: [('تیل', 'Ingredient'), ('4', 'Quantity'), ('کھانے کا چمچہ', 'Unit')]\n",
      "\n",
      "Text: ثابت کالی مرچ 6-8 عدد\n",
      "Entities: [('ثابت کالی مرچ', 'Ingredient'), ('6', 'Quantity'), ('-', 'Ingredient'), ('8', 'Quantity'), ('عدد', 'Unit')]\n",
      "\n",
      "Text: پانی 1 پیالی\n",
      "Entities: [('پانی', 'Ingredient'), ('1', 'Quantity'), ('پیالی', 'Unit')]\n",
      "\n",
      "Text: دودھ 1  پیالی\n",
      "Entities: [('دودھ', 'Ingredient'), ('1', 'Quantity'), ('پیالی', 'Unit')]\n",
      "\n",
      "Text: دھنیا پاؤڈر 1 کپ\n",
      "Entities: [('دھنیا پاؤڈر', 'Ingredient'), ('1', 'Quantity'), ('کپ', 'Unit')]\n",
      "\n",
      "Text: ہری پیاز 2 عدد\n",
      "Entities: [('ہری پیاز', 'Ingredient'), ('2', 'Quantity'), ('عدد', 'Unit')]\n",
      "\n",
      "Text: بادام 50 گرام\n",
      "Entities: [('بادام 50 گرام', 'Ingredient')]\n",
      "\n",
      "Text: اُبلے ہوئے ٹماٹر 2 عدد\n",
      "Entities: [('اُبلے ہوئے ٹماٹر', 'Ingredient'), ('2', 'Quantity'), ('عدد', 'Unit')]\n",
      "\n",
      "Text: چلی چیس 3 پیکٹ\n",
      "Entities: [('چلی چیس', 'Ingredient'), ('3', 'Quantity'), ('پیکٹ', 'Unit')]\n",
      "\n",
      "Text: ہلدی 1 چائے کا چمچہ\n",
      "Entities: [('ہلدی', 'Ingredient'), ('1', 'Quantity'), ('چائے کا چمچہ', 'Unit')]\n",
      "\n",
      "Text: دہی 1 کپ\n",
      "Entities: [('دہی', 'Ingredient'), ('1', 'Quantity'), ('کپ', 'Unit')]\n",
      "\n",
      "Text: باریک کٹا ہرا دھنیا 1 گٹھی\n",
      "Entities: [('باریک کٹا ہرا دھنیا', 'Ingredient'), ('1', 'Quantity'), ('گٹھی', 'Unit')]\n",
      "\n",
      "Text: چکن (14 ٹکڑے) ½-1 کلو\n",
      "Entities: [('چکن (14 ٹکڑے)', 'Ingredient'), ('½-1', 'Quantity'), ('کلو', 'Unit')]\n",
      "\n",
      "Text: چاول ½-2 پیالی\n",
      "Entities: [('چاول', 'Ingredient'), ('½-2', 'Quantity'), ('پیالی', 'Unit')]\n",
      "\n",
      "Text: کارن فلور 2  کھانے کا چمچہ\n",
      "Entities: [('کارن فلور', 'Ingredient'), ('2', 'Quantity')]\n",
      "\n",
      "Text: گائے یا بکری کا قیمہ 1 کلو\n",
      "Entities: [('گائے یا بکری کا قیمہ', 'Ingredient'), ('1', 'Quantity'), ('کلو', 'Unit')]\n",
      "\n",
      "Text: کوکو پاﺅڈر 2  کھانے کا چمچہ\n",
      "Entities: [('کوکو پاﺅڈر', 'Ingredient'), ('2', 'Quantity')]\n",
      "\n",
      "Text: چھوٹی الانچی 4 عدد\n",
      "Entities: [('چھوٹی الانچی', 'Ingredient'), ('4', 'Quantity'), ('عدد', 'Unit')]\n",
      "\n",
      "Text: کچا پپیتا 1 کھانے کا چمچہ\n",
      "Entities: [('کچا پپیتا', 'Ingredient'), ('1', 'Quantity'), ('کھانے کا چمچہ', 'Unit')]\n",
      "\n",
      "Text: پسی لال مرچ 2 چائے کا چمچہ\n",
      "Entities: [('پسی لال مرچ', 'Ingredient'), ('2', 'Quantity'), ('چائے کا چمچہ', 'Unit')]\n",
      "\n",
      "Text: پیاز 1 عدد\n",
      "Entities: [('پیاز', 'Ingredient'), ('1', 'Quantity'), ('عدد', 'Unit')]\n",
      "\n",
      "Text: مکھن 4 کھانے کا چمچہ\n",
      "Entities: [('مکھن', 'Ingredient'), ('4', 'Quantity'), ('کھانے کا چمچہ', 'Unit')]\n",
      "\n",
      "Text: کابلی چنے  1 پیالی\n",
      "Entities: [('کابلی چنے  ', 'Ingredient'), ('1', 'Quantity'), ('پیالی', 'Unit')]\n",
      "\n",
      "Text: ادرک لہسن کا پیسٹ 2 کھانے کا چمچہ\n",
      "Entities: [('ادرک لہسن کا پیسٹ', 'Ingredient'), ('2', 'Quantity'), ('کھانے کا چمچہ', 'Unit')]\n",
      "\n",
      "Text: ہری شملہ مرچ 1 عدد\n",
      "Entities: [('ہری شملہ مرچ', 'Ingredient'), ('1', 'Quantity'), ('عدد', 'Unit')]\n",
      "\n",
      "Text: چکن 14_16 ٹکرے\n",
      "Entities: [('چکن', 'Ingredient'), ('14_16', 'Quantity'), ('ٹکرے', 'Ingredient')]\n",
      "\n",
      "Text: ہلدی 1  کھانے کا چمچہ\n",
      "Entities: [('ہلدی', 'Ingredient'), ('1', 'Quantity')]\n",
      "\n",
      "Text: ثابت دھنیا (کٹا ہوا) 1  کھانے کا چمچہ\n",
      "Entities: [('ثابت دھنیا (کٹا ہوا)', 'Ingredient'), ('1', 'Quantity')]\n",
      "\n",
      "Text: سوکھی گول مرچ 5 عدد\n",
      "Entities: [('سوکھی گول مرچ', 'Ingredient'), ('5', 'Quantity'), ('عدد', 'Unit')]\n",
      "\n",
      "Text: چیڈر پنیر 50 گرام\n",
      "Entities: [('چیڈر پنیر 50 گرام', 'Ingredient')]\n",
      "\n",
      "Text: بکرے کی چانپیں 6_8 عدد\n",
      "Entities: [('بکرے کی چانپیں', 'Ingredient'), ('6_8', 'Quantity'), ('عدد', 'Unit')]\n",
      "\n",
      "Text: مکئی کا آٹا 1 پیالی\n",
      "Entities: [('مکئی کا آٹا', 'Ingredient'), ('1', 'Quantity'), ('پیالی', 'Unit')]\n",
      "\n",
      "Text: پیاز 1 عدد\n",
      "Entities: [('پیاز', 'Ingredient'), ('1', 'Quantity'), ('عدد', 'Unit')]\n",
      "\n",
      "Text: آلو ابلے 2 عدد\n",
      "Entities: [('آلو ابلے', 'Ingredient'), ('2', 'Quantity'), ('عدد', 'Unit')]\n",
      "\n",
      "Text: دودھ 1 کپ\n",
      "Entities: [('دودھ', 'Ingredient'), ('1', 'Quantity'), ('کپ', 'Unit')]\n",
      "\n",
      "Text: تیل 4  کھانے کا چمچہ\n",
      "Entities: [('تیل', 'Ingredient'), ('4', 'Quantity')]\n",
      "\n",
      "Text: کاسٹر شوگر 200 گرام\n",
      "Entities: [('کاسٹر شوگر', 'Ingredient'), ('200', 'Quantity')]\n",
      "\n",
      "Text: کالا زیرہ 1 چائے کا چمچہ\n",
      "Entities: [('کالا زیرہ', 'Ingredient'), ('1', 'Quantity'), ('چائے کا چمچہ', 'Unit')]\n",
      "\n",
      "Text: ادرک لہسن کا پیسٹ 2  کھانے کا چمچہ\n",
      "Entities: [('ادرک لہسن کا پیسٹ', 'Ingredient'), ('2', 'Quantity')]\n",
      "\n",
      "Text: لیموں کا رس 2 کھانے کا چمچہ\n",
      "Entities: [('لیموں کا رس', 'Ingredient'), ('2', 'Quantity'), ('کھانے کا چمچہ', 'Unit')]\n",
      "\n",
      "Text: ہری پیاز 1 ڈنڈی\n",
      "Entities: [('ہری پیاز', 'Ingredient'), ('1', 'Quantity'), ('ڈنڈی', 'Unit')]\n",
      "\n",
      "Text: انڈا 1 عدد\n",
      "Entities: [('انڈا', 'Ingredient'), ('1', 'Quantity'), ('عدد', 'Unit')]\n",
      "\n",
      "Text: ہری مرچوں کا پیسٹ  2 چائے کا چمچہ\n",
      "Entities: [('ہری مرچوں کا پیسٹ  ', 'Ingredient'), ('2', 'Quantity'), ('چائے کا چمچہ', 'Unit')]\n",
      "\n"
     ]
    },
    {
     "name": "stdout",
     "output_type": "stream",
     "text": [
      "Text: پسی کچی پیاز 2 عدد\n",
      "Entities: [('پسی کچی پیاز', 'Ingredient'), ('2', 'Quantity'), ('عدد', 'Unit')]\n",
      "\n",
      "Text: مسٹرڈ پیسٹ 3  کھانے کا چمچہ\n",
      "Entities: [('مسٹرڈ پیسٹ', 'Ingredient'), ('3', 'Quantity')]\n",
      "\n",
      "Text: پسی لال مرچ 1  کھانے کا چمچہ\n",
      "Entities: [('پسی لال مرچ', 'Ingredient'), ('1', 'Quantity')]\n",
      "\n",
      "Text: کارن فلور 1  کھانے کا چمچہ\n",
      "Entities: [('کارن فلور', 'Ingredient'), ('1', 'Quantity')]\n",
      "\n",
      "Text: کالی مرچ 1 چائے کا چمچہ\n",
      "Entities: [('کالی مرچ', 'Ingredient'), ('1', 'Quantity'), ('چائے کا چمچہ', 'Unit')]\n",
      "\n",
      "Text: ہری مرچ 3_4 عدد\n",
      "Entities: [('ہری مرچ 3_4 عدد', 'Ingredient')]\n",
      "\n",
      "Text: مرغی کا قیمہ 125 گرام\n",
      "Entities: [('مرغی کا قیمہ', 'Ingredient'), ('125', 'Quantity')]\n",
      "\n",
      "Text: لیموں 6 عدد\n",
      "Entities: [('لیموں', 'Ingredient'), ('6', 'Quantity'), ('عدد', 'Unit')]\n",
      "\n",
      "Text: تیل 1 پیالی\n",
      "Entities: [('تیل', 'Ingredient'), ('1', 'Quantity'), ('پیالی', 'Unit')]\n",
      "\n",
      "Text: کریم چیز  3  کھانے کا چمچہ\n",
      "Entities: [('کریم چیز\\xa0 ', 'Ingredient'), ('3', 'Quantity')]\n",
      "\n"
     ]
    }
   ],
   "source": [
    "# Test the NER model on the test data\n",
    "for text, annotations in test_data:\n",
    "    doc = nlp(text)\n",
    "    print(\"Text:\", text)\n",
    "    print(\"Entities:\", [(ent.text, ent.label_) for ent in doc.ents])\n",
    "    print(\"\")\n",
    "# Save the model to disk\n",
    "nlp.to_disk(\"urdu_ner_model\")"
   ]
  },
  {
   "attachments": {},
   "cell_type": "markdown",
   "metadata": {
    "editable": false
   },
   "source": [
    "### Let's look at a random test case."
   ]
  },
  {
   "cell_type": "code",
   "execution_count": 53,
   "metadata": {
    "editable": false,
    "execution": {
     "iopub.execute_input": "2023-05-06T10:25:53.577940Z",
     "iopub.status.busy": "2023-05-06T10:25:53.577333Z",
     "iopub.status.idle": "2023-05-06T10:25:53.589697Z",
     "shell.execute_reply": "2023-05-06T10:25:53.588426Z",
     "shell.execute_reply.started": "2023-05-06T10:25:53.577897Z"
    }
   },
   "outputs": [
    {
     "name": "stdout",
     "output_type": "stream",
     "text": [
      "Text: چنار کے پھول 1 کپ\n",
      "Entities: [('چنار کے پھول', 'Ingredient'), ('1', 'Quantity'), ('کپ', 'Unit')]\n",
      "\n"
     ]
    }
   ],
   "source": [
    "doc = nlp('چنار کے پھول 1 کپ')\n",
    "print(\"Text:\", 'چنار کے پھول 1 کپ')\n",
    "print(\"Entities:\", [(ent.text, ent.label_) for ent in doc.ents])\n",
    "print(\"\")\n"
   ]
  },
  {
   "attachments": {},
   "cell_type": "markdown",
   "metadata": {
    "editable": false
   },
   "source": [
    "## Evalution\n",
    "### Metrics\n",
    "* Precision\n",
    "* Recall\n",
    "* F1Score\n"
   ]
  },
  {
   "cell_type": "code",
   "execution_count": 54,
   "metadata": {
    "editable": false,
    "execution": {
     "iopub.execute_input": "2023-05-06T10:25:53.592345Z",
     "iopub.status.busy": "2023-05-06T10:25:53.591500Z",
     "iopub.status.idle": "2023-05-06T10:25:53.973951Z",
     "shell.execute_reply": "2023-05-06T10:25:53.972820Z",
     "shell.execute_reply.started": "2023-05-06T10:25:53.592309Z"
    }
   },
   "outputs": [
    {
     "name": "stdout",
     "output_type": "stream",
     "text": [
      "Precision: 0.89\n",
      "Recall: 0.82\n",
      "F1 score: 0.86\n"
     ]
    }
   ],
   "source": [
    "# Function to evaluate the model on a test set\n",
    "def evaluate_model(test_data):\n",
    "    # Initialize counters\n",
    "    total_true = 0\n",
    "    total_predicted = 0\n",
    "    total_correct = 0\n",
    "    \n",
    "    # Iterate over the test data\n",
    "    for text, annotations in test_data:\n",
    "        # Get the true entities\n",
    "        true_entities = set([(ent[0], ent[1], ent[2]) for ent in annotations[\"entities\"]])\n",
    "        \n",
    "        \n",
    "        # Get the predicted entities\n",
    "        doc = nlp(text)\n",
    "        predicted_entities = set([(ent.start_char, ent.end_char, ent.label_) for ent in doc.ents])\n",
    "        \n",
    "        # Update the counters\n",
    "        total_true += len(true_entities)\n",
    "        total_predicted += len(predicted_entities)\n",
    "        total_correct += len(true_entities.intersection(predicted_entities))\n",
    "    \n",
    "    # Calculate precision, recall, and F1 score\n",
    "    precision = total_correct / total_predicted if total_predicted > 0 else 0.0\n",
    "    recall = total_correct / total_true if total_true > 0 else 0.0\n",
    "    f1_score = 2 * precision * recall / (precision + recall) if precision + recall > 0 else 0.0\n",
    "    \n",
    "    # Print the evaluation metrics\n",
    "    print(f\"Precision: {precision:.2f}\")\n",
    "    print(f\"Recall: {recall:.2f}\")\n",
    "    print(f\"F1 score: {f1_score:.2f}\")\n",
    "\n",
    "# Evaluate the model on the test data\n",
    "evaluate_model(test_data)"
   ]
  },
  {
   "attachments": {},
   "cell_type": "markdown",
   "metadata": {
    "editable": false
   },
   "source": [
    "### Conclusion: \n",
    "Above are the evaluation metrics of our NER model. The precision of the model is 0.89, which means that out of all the predicted entities, 89% were correct. The recall of the model is 0.82, which means that out of all the actual entities, the model was able to correctly identify 82% of them. The F1 score is 0.86, which is the harmonic mean of precision and recall and is a measure of the overall performance of the model which is indicating better performance."
   ]
  },
  {
   "cell_type": "code",
   "execution_count": null,
   "metadata": {},
   "outputs": [],
   "source": []
  },
  {
   "cell_type": "code",
   "execution_count": null,
   "metadata": {},
   "outputs": [],
   "source": []
  },
  {
   "cell_type": "code",
   "execution_count": null,
   "metadata": {},
   "outputs": [],
   "source": []
  }
 ],
 "metadata": {
  "kernelspec": {
   "display_name": "Python 3 (ipykernel)",
   "language": "python",
   "name": "python3"
  },
  "language_info": {
   "codemirror_mode": {
    "name": "ipython",
    "version": 3
   },
   "file_extension": ".py",
   "mimetype": "text/x-python",
   "name": "python",
   "nbconvert_exporter": "python",
   "pygments_lexer": "ipython3",
   "version": "3.9.13"
  }
 },
 "nbformat": 4,
 "nbformat_minor": 4
}
