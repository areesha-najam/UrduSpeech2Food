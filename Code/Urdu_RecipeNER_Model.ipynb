{
 "cells": [
  {
   "attachments": {},
   "cell_type": "markdown",
   "metadata": {},
   "source": [
    "## Import Required Libraries"
   ]
  },
  {
   "cell_type": "code",
   "execution_count": 26,
   "metadata": {
    "editable": false,
    "execution": {
     "iopub.execute_input": "2023-05-06T10:25:31.527967Z",
     "iopub.status.busy": "2023-05-06T10:25:31.526753Z",
     "iopub.status.idle": "2023-05-06T10:25:43.944840Z",
     "shell.execute_reply": "2023-05-06T10:25:43.943648Z",
     "shell.execute_reply.started": "2023-05-06T10:25:31.527912Z"
    }
   },
   "outputs": [],
   "source": [
    "import re\n",
    "import pandas as pd\n",
    "import random\n",
    "import spacy\n",
    "from spacy.util import minibatch, compounding\n",
    "from sklearn.model_selection import train_test_split\n",
    "from spacy.training import Example\n",
    "from spacy.tokens import Doc\n",
    "from time import time"
   ]
  },
  {
   "attachments": {},
   "cell_type": "markdown",
   "metadata": {
    "editable": false,
    "execution": {
     "iopub.execute_input": "2023-05-06T07:22:16.133192Z",
     "iopub.status.busy": "2023-05-06T07:22:16.131941Z",
     "iopub.status.idle": "2023-05-06T07:22:16.174402Z",
     "shell.execute_reply": "2023-05-06T07:22:16.173218Z",
     "shell.execute_reply.started": "2023-05-06T07:22:16.133138Z"
    }
   },
   "source": [
    "## Tagging Data\n",
    "Format: (\"Ingredient_Phrase\", {\"entities\": [(start, end, \"Ingredient\"), (start, end,\"Quantity\"), (start, end, \"Unit\")]})\n",
    "where start and end are starting and ending indexes respectively. "
   ]
  },
  {
   "cell_type": "code",
   "execution_count": 27,
   "metadata": {
    "editable": false,
    "execution": {
     "iopub.execute_input": "2023-05-06T10:25:43.949722Z",
     "iopub.status.busy": "2023-05-06T10:25:43.948815Z",
     "iopub.status.idle": "2023-05-06T10:25:43.959466Z",
     "shell.execute_reply": "2023-05-06T10:25:43.958239Z",
     "shell.execute_reply.started": "2023-05-06T10:25:43.949674Z"
    }
   },
   "outputs": [],
   "source": [
    "tagged_entities = []\n",
    "def tag_input(input_str):\n",
    "    # Define the regex pattern\n",
    "    pattern = r'(\\S+)\\s*(\\d+(?:\\.\\d+)?)\\s*(\\S+)'\n",
    "\n",
    "    # Extract the matches using the pattern\n",
    "    matches = re.findall(pattern, input_str)\n",
    "\n",
    "    # Create a list of tuples with the tagged entities\n",
    "    for match in matches:\n",
    "        ingredient = match[0]\n",
    "        quantity = match[1]\n",
    "        unit = match[2]\n",
    "        entity = (input_str, {\"entities\": [(0, re.search('\\d', input_str).start()-1, \"Ingredient\"), \n",
    "                                           (re.search('\\d', input_str).start(), re.search('\\d', input_str).end(), \"Quantity\"), \n",
    "                                           (re.search('\\d', input_str).end()+1, len(input_str), \"Unit\")]})\n",
    "        tagged_entities.append(entity)\n",
    "#     return tagged_entities"
   ]
  },
  {
   "cell_type": "code",
   "execution_count": 28,
   "metadata": {
    "editable": false,
    "execution": {
     "iopub.execute_input": "2023-05-06T10:25:43.961677Z",
     "iopub.status.busy": "2023-05-06T10:25:43.961131Z",
     "iopub.status.idle": "2023-05-06T10:25:44.747414Z",
     "shell.execute_reply": "2023-05-06T10:25:44.746065Z",
     "shell.execute_reply.started": "2023-05-06T10:25:43.961638Z"
    }
   },
   "outputs": [],
   "source": [
    "df = pd.read_excel(\"urdu-recipes.xlsx\")\n",
    "lst_ing_phrases = []\n",
    "for index, row in df.iterrows():\n",
    "    ing_name = row['ing_name']\n",
    "    ing_quantity = row['Ing_quantity']\n",
    "    ing_unit = row['Ing_unit']\n",
    "    concatenated = str(ing_name) +\" \"+ str(ing_quantity) + \" \" +str(ing_unit)\n",
    "#     print(concatenated)\n",
    "    remove_nan = concatenated.replace(\"nan\", \"\")\n",
    "#     print(remove_nan)\n",
    "    lst_ing_phrases.append(remove_nan)\n",
    "for i in lst_ing_phrases:\n",
    "    tag_input(i) "
   ]
  },
  {
   "attachments": {},
   "cell_type": "markdown",
   "metadata": {
    "editable": false
   },
   "source": [
    "### Let's look at \"Tagged Entities\"\n",
    "tagged_entities = [\n",
    "(\"ادرک لہسن کا پیسٹ 1 کھانے کا چمچہ\", {\"entities\": [(0, 13, \"Ingredient\"), (14, 15, \"Quantity\"), (16, 23, \"Unit\")]}),\n",
    "(\"ثابت لال مرچ 6 عدد\", {\"entities\": [(0, 9, \"Ingredient\"), (10, 11, \"Quantity\"), (12, 15, \"Unit\")]}),\n",
    "(\"ہری مرچ 3 عدد\", {\"entities\": [(0, 7, \"Ingredient\"), (8, 9, \"Quantity\"), (10, 13, \"Unit\")]}),\n",
    "(\"لہسن کے جوے آدھا کلو\", {\"entities\": [(0, 11, \"Ingredient\"), (12, 13, \"Quantity\"), (14, 16, \"Unit\")]}),\n",
    "(\"فِش فلے 10 عدد\", {\"entities\": [(0, 7, \"Ingredient\"), (8, 10, \"Quantity\"), (11, 14, \"Unit\")]})]"
   ]
  },
  {
   "attachments": {},
   "cell_type": "markdown",
   "metadata": {
    "editable": false
   },
   "source": [
    "## Shuffle and Split Data "
   ]
  },
  {
   "cell_type": "code",
   "execution_count": 29,
   "metadata": {
    "editable": false,
    "execution": {
     "iopub.execute_input": "2023-05-06T10:25:44.750832Z",
     "iopub.status.busy": "2023-05-06T10:25:44.750267Z",
     "iopub.status.idle": "2023-05-06T10:25:44.760527Z",
     "shell.execute_reply": "2023-05-06T10:25:44.759268Z",
     "shell.execute_reply.started": "2023-05-06T10:25:44.750799Z"
    }
   },
   "outputs": [],
   "source": [
    "# Shuffle the data randomly\n",
    "random.shuffle(tagged_entities)\n",
    "\n",
    "# Split the data into train and test sets\n",
    "train_data, test_data = train_test_split(tagged_entities, test_size=0.2, random_state=42)"
   ]
  },
  {
   "cell_type": "code",
   "execution_count": 30,
   "metadata": {},
   "outputs": [
    {
     "data": {
      "text/plain": [
       "775"
      ]
     },
     "execution_count": 30,
     "metadata": {},
     "output_type": "execute_result"
    }
   ],
   "source": [
    "len(train_data)\n"
   ]
  },
  {
   "cell_type": "code",
   "execution_count": 31,
   "metadata": {},
   "outputs": [
    {
     "data": {
      "text/plain": [
       "194"
      ]
     },
     "execution_count": 31,
     "metadata": {},
     "output_type": "execute_result"
    }
   ],
   "source": [
    "len(test_data)"
   ]
  },
  {
   "attachments": {},
   "cell_type": "markdown",
   "metadata": {
    "editable": false
   },
   "source": [
    "## Initialize NER Model"
   ]
  },
  {
   "cell_type": "code",
   "execution_count": 32,
   "metadata": {
    "editable": false,
    "execution": {
     "iopub.execute_input": "2023-05-06T10:25:44.762801Z",
     "iopub.status.busy": "2023-05-06T10:25:44.762413Z",
     "iopub.status.idle": "2023-05-06T10:25:44.924617Z",
     "shell.execute_reply": "2023-05-06T10:25:44.923675Z",
     "shell.execute_reply.started": "2023-05-06T10:25:44.762757Z"
    }
   },
   "outputs": [
    {
     "data": {
      "text/plain": [
       "<spacy.pipeline.ner.EntityRecognizer at 0x20420065cf0>"
      ]
     },
     "execution_count": 32,
     "metadata": {},
     "output_type": "execute_result"
    }
   ],
   "source": [
    "# Initialize a blank Urdu model\n",
    "nlp = spacy.blank(\"ur\")\n",
    "\n",
    "# Create a new NER component\n",
    "ner = nlp.create_pipe(\"ner\")\n",
    "\n",
    "# Add the labels to the NER component\n",
    "labels = [\"Quantity\", \"Unit\", \"Ingredient\"]\n",
    "for label in labels:\n",
    "    ner.add_label(label)    \n",
    "    \n",
    "# Add the NER component to the pipeline\n",
    "nlp.add_pipe('ner', last=True)"
   ]
  },
  {
   "attachments": {},
   "cell_type": "markdown",
   "metadata": {
    "editable": false
   },
   "source": [
    "## Train the Model"
   ]
  },
  {
   "cell_type": "code",
   "execution_count": 33,
   "metadata": {
    "editable": false,
    "execution": {
     "iopub.execute_input": "2023-05-06T10:25:44.926552Z",
     "iopub.status.busy": "2023-05-06T10:25:44.926175Z",
     "iopub.status.idle": "2023-05-06T10:25:53.137503Z",
     "shell.execute_reply": "2023-05-06T10:25:53.136324Z",
     "shell.execute_reply.started": "2023-05-06T10:25:44.926517Z"
    }
   },
   "outputs": [
    {
     "name": "stdout",
     "output_type": "stream",
     "text": [
      "Epoch 1 - Time taken: 0.03 seconds\n",
      "Epoch 2 - Time taken: 0.10 seconds\n",
      "Epoch 3 - Time taken: 0.13 seconds\n",
      "Epoch 4 - Time taken: 0.17 seconds\n",
      "Epoch 5 - Time taken: 0.22 seconds\n"
     ]
    },
    {
     "name": "stderr",
     "output_type": "stream",
     "text": [
      "C:\\Users\\HOME\\anaconda3\\lib\\site-packages\\spacy\\training\\iob_utils.py:141: UserWarning: [W030] Some entities could not be aligned in the text \"اُبلی ملکہ مسور 50 گرام\" with entities \"[(0, 15, 'Ingredient'), (16, 17, 'Quantity'), (18,...\". Use `spacy.training.offsets_to_biluo_tags(nlp.make_doc(text), entities)` to check the alignment. Misaligned entities ('-') will be ignored during training.\n",
      "  warnings.warn(\n",
      "C:\\Users\\HOME\\anaconda3\\lib\\site-packages\\spacy\\training\\iob_utils.py:141: UserWarning: [W030] Some entities could not be aligned in the text \"انڈر کٹ 300 گرام\" with entities \"[(0, 7, 'Ingredient'), (8, 9, 'Quantity'), (10, 16...\". Use `spacy.training.offsets_to_biluo_tags(nlp.make_doc(text), entities)` to check the alignment. Misaligned entities ('-') will be ignored during training.\n",
      "  warnings.warn(\n"
     ]
    },
    {
     "name": "stdout",
     "output_type": "stream",
     "text": [
      "Epoch 6 - Time taken: 0.29 seconds\n",
      "Epoch 7 - Time taken: 0.33 seconds\n",
      "Epoch 8 - Time taken: 0.38 seconds\n",
      "Epoch 9 - Time taken: 0.44 seconds\n",
      "Epoch 10 - Time taken: 0.49 seconds\n"
     ]
    },
    {
     "name": "stderr",
     "output_type": "stream",
     "text": [
      "C:\\Users\\HOME\\anaconda3\\lib\\site-packages\\spacy\\training\\iob_utils.py:141: UserWarning: [W030] Some entities could not be aligned in the text \"چکن (16 ٹکڑے) 1 عدد\" with entities \"[(0, 4, 'Ingredient'), (5, 6, 'Quantity'), (7, 19,...\". Use `spacy.training.offsets_to_biluo_tags(nlp.make_doc(text), entities)` to check the alignment. Misaligned entities ('-') will be ignored during training.\n",
      "  warnings.warn(\n"
     ]
    },
    {
     "name": "stdout",
     "output_type": "stream",
     "text": [
      "Epoch 11 - Time taken: 0.54 seconds\n",
      "Epoch 12 - Time taken: 0.59 seconds\n",
      "Epoch 13 - Time taken: 0.64 seconds\n",
      "Epoch 14 - Time taken: 0.71 seconds\n"
     ]
    },
    {
     "name": "stderr",
     "output_type": "stream",
     "text": [
      "C:\\Users\\HOME\\anaconda3\\lib\\site-packages\\spacy\\training\\iob_utils.py:141: UserWarning: [W030] Some entities could not be aligned in the text \"ثابت لال مرچ 10 عدد\" with entities \"[(0, 12, 'Ingredient'), (13, 14, 'Quantity'), (15,...\". Use `spacy.training.offsets_to_biluo_tags(nlp.make_doc(text), entities)` to check the alignment. Misaligned entities ('-') will be ignored during training.\n",
      "  warnings.warn(\n"
     ]
    },
    {
     "name": "stdout",
     "output_type": "stream",
     "text": [
      "Epoch 15 - Time taken: 0.78 seconds\n",
      "Epoch 16 - Time taken: 0.84 seconds\n",
      "Epoch 17 - Time taken: 0.90 seconds\n",
      "Epoch 18 - Time taken: 0.95 seconds\n",
      "Epoch 19 - Time taken: 1.01 seconds\n",
      "Epoch 20 - Time taken: 1.05 seconds\n",
      "Epoch 21 - Time taken: 1.10 seconds\n",
      "Epoch 22 - Time taken: 1.15 seconds\n",
      "Epoch 23 - Time taken: 1.18 seconds\n"
     ]
    },
    {
     "name": "stderr",
     "output_type": "stream",
     "text": [
      "C:\\Users\\HOME\\anaconda3\\lib\\site-packages\\spacy\\training\\iob_utils.py:141: UserWarning: [W030] Some entities could not be aligned in the text \"بیسن  2 کھانے کا چمچہ\" with entities \"[(0, 5, 'Ingredient'), (6, 7, 'Quantity'), (8, 21,...\". Use `spacy.training.offsets_to_biluo_tags(nlp.make_doc(text), entities)` to check the alignment. Misaligned entities ('-') will be ignored during training.\n",
      "  warnings.warn(\n"
     ]
    },
    {
     "name": "stdout",
     "output_type": "stream",
     "text": [
      "Epoch 24 - Time taken: 1.24 seconds\n",
      "Epoch 25 - Time taken: 1.30 seconds\n",
      "Epoch 26 - Time taken: 1.36 seconds\n",
      "Epoch 27 - Time taken: 1.40 seconds\n",
      "Epoch 28 - Time taken: 1.45 seconds\n",
      "Epoch 29 - Time taken: 1.52 seconds\n",
      "Epoch 30 - Time taken: 1.57 seconds\n",
      "Epoch 31 - Time taken: 1.61 seconds\n",
      "Epoch 32 - Time taken: 1.67 seconds\n",
      "Epoch 33 - Time taken: 1.72 seconds\n",
      "Epoch 34 - Time taken: 1.76 seconds\n",
      "Epoch 35 - Time taken: 1.81 seconds\n",
      "Epoch 36 - Time taken: 1.85 seconds\n",
      "Epoch 37 - Time taken: 1.91 seconds\n",
      "Epoch 38 - Time taken: 1.95 seconds\n",
      "Epoch 39 - Time taken: 2.00 seconds\n",
      "Epoch 40 - Time taken: 2.05 seconds\n",
      "Epoch 41 - Time taken: 2.09 seconds\n",
      "Epoch 42 - Time taken: 2.14 seconds\n"
     ]
    },
    {
     "name": "stderr",
     "output_type": "stream",
     "text": [
      "C:\\Users\\HOME\\anaconda3\\lib\\site-packages\\spacy\\training\\iob_utils.py:141: UserWarning: [W030] Some entities could not be aligned in the text \"بیگن  2-3 عدد\" with entities \"[(0, 5, 'Ingredient'), (6, 7, 'Quantity'), (8, 13,...\". Use `spacy.training.offsets_to_biluo_tags(nlp.make_doc(text), entities)` to check the alignment. Misaligned entities ('-') will be ignored during training.\n",
      "  warnings.warn(\n"
     ]
    },
    {
     "name": "stdout",
     "output_type": "stream",
     "text": [
      "Epoch 43 - Time taken: 2.20 seconds\n",
      "Epoch 44 - Time taken: 2.25 seconds\n",
      "Epoch 45 - Time taken: 2.30 seconds\n",
      "Epoch 46 - Time taken: 2.34 seconds\n",
      "Epoch 47 - Time taken: 2.38 seconds\n"
     ]
    },
    {
     "name": "stderr",
     "output_type": "stream",
     "text": [
      "C:\\Users\\HOME\\anaconda3\\lib\\site-packages\\spacy\\training\\iob_utils.py:141: UserWarning: [W030] Some entities could not be aligned in the text \"تیل 2023-01-02 00:00:00 کپ\" with entities \"[(0, 3, 'Ingredient'), (4, 5, 'Quantity'), (6, 26,...\". Use `spacy.training.offsets_to_biluo_tags(nlp.make_doc(text), entities)` to check the alignment. Misaligned entities ('-') will be ignored during training.\n",
      "  warnings.warn(\n",
      "C:\\Users\\HOME\\anaconda3\\lib\\site-packages\\spacy\\training\\iob_utils.py:141: UserWarning: [W030] Some entities could not be aligned in the text \"پانی  3 پیالی\" with entities \"[(0, 5, 'Ingredient'), (6, 7, 'Quantity'), (8, 13,...\". Use `spacy.training.offsets_to_biluo_tags(nlp.make_doc(text), entities)` to check the alignment. Misaligned entities ('-') will be ignored during training.\n",
      "  warnings.warn(\n"
     ]
    },
    {
     "name": "stdout",
     "output_type": "stream",
     "text": [
      "Epoch 48 - Time taken: 2.43 seconds\n",
      "Epoch 49 - Time taken: 2.50 seconds\n",
      "Epoch 50 - Time taken: 2.54 seconds\n",
      "Epoch 51 - Time taken: 2.59 seconds\n"
     ]
    },
    {
     "name": "stderr",
     "output_type": "stream",
     "text": [
      "C:\\Users\\HOME\\anaconda3\\lib\\site-packages\\spacy\\training\\iob_utils.py:141: UserWarning: [W030] Some entities could not be aligned in the text \"ہری مرچ 10 عدد\" with entities \"[(0, 7, 'Ingredient'), (8, 9, 'Quantity'), (10, 14...\". Use `spacy.training.offsets_to_biluo_tags(nlp.make_doc(text), entities)` to check the alignment. Misaligned entities ('-') will be ignored during training.\n",
      "  warnings.warn(\n"
     ]
    },
    {
     "name": "stdout",
     "output_type": "stream",
     "text": [
      "Epoch 52 - Time taken: 2.65 seconds\n",
      "Epoch 53 - Time taken: 2.71 seconds\n",
      "Epoch 54 - Time taken: 2.76 seconds\n",
      "Epoch 55 - Time taken: 2.80 seconds\n",
      "Epoch 56 - Time taken: 2.85 seconds\n",
      "Epoch 57 - Time taken: 2.91 seconds\n",
      "Epoch 58 - Time taken: 2.96 seconds\n",
      "Epoch 59 - Time taken: 2.99 seconds\n",
      "Epoch 60 - Time taken: 3.03 seconds\n",
      "Epoch 61 - Time taken: 3.07 seconds\n",
      "Epoch 62 - Time taken: 3.11 seconds\n"
     ]
    },
    {
     "name": "stderr",
     "output_type": "stream",
     "text": [
      "C:\\Users\\HOME\\anaconda3\\lib\\site-packages\\spacy\\training\\iob_utils.py:141: UserWarning: [W030] Some entities could not be aligned in the text \"لیموں  2 عدد\" with entities \"[(0, 6, 'Ingredient'), (7, 8, 'Quantity'), (9, 12,...\". Use `spacy.training.offsets_to_biluo_tags(nlp.make_doc(text), entities)` to check the alignment. Misaligned entities ('-') will be ignored during training.\n",
      "  warnings.warn(\n",
      "C:\\Users\\HOME\\anaconda3\\lib\\site-packages\\spacy\\training\\iob_utils.py:141: UserWarning: [W030] Some entities could not be aligned in the text \"چاول 300 گرام\" with entities \"[(0, 4, 'Ingredient'), (5, 6, 'Quantity'), (7, 13,...\". Use `spacy.training.offsets_to_biluo_tags(nlp.make_doc(text), entities)` to check the alignment. Misaligned entities ('-') will be ignored during training.\n",
      "  warnings.warn(\n"
     ]
    },
    {
     "name": "stdout",
     "output_type": "stream",
     "text": [
      "Epoch 63 - Time taken: 3.17 seconds\n",
      "Epoch 64 - Time taken: 3.21 seconds\n",
      "Epoch 65 - Time taken: 3.25 seconds\n",
      "Epoch 66 - Time taken: 3.30 seconds\n",
      "Epoch 67 - Time taken: 3.34 seconds\n",
      "Epoch 68 - Time taken: 3.40 seconds\n",
      "Epoch 69 - Time taken: 3.44 seconds\n",
      "Epoch 70 - Time taken: 3.49 seconds\n",
      "Epoch 71 - Time taken: 3.54 seconds\n",
      "Epoch 72 - Time taken: 3.59 seconds\n"
     ]
    },
    {
     "name": "stderr",
     "output_type": "stream",
     "text": [
      "C:\\Users\\HOME\\anaconda3\\lib\\site-packages\\spacy\\training\\iob_utils.py:141: UserWarning: [W030] Some entities could not be aligned in the text \"گھی 250 گرام\" with entities \"[(0, 3, 'Ingredient'), (4, 5, 'Quantity'), (6, 12,...\". Use `spacy.training.offsets_to_biluo_tags(nlp.make_doc(text), entities)` to check the alignment. Misaligned entities ('-') will be ignored during training.\n",
      "  warnings.warn(\n"
     ]
    },
    {
     "name": "stdout",
     "output_type": "stream",
     "text": [
      "Epoch 73 - Time taken: 3.65 seconds\n",
      "Epoch 74 - Time taken: 3.70 seconds\n",
      "Epoch 75 - Time taken: 3.75 seconds\n",
      "Epoch 76 - Time taken: 3.79 seconds\n",
      "Epoch 77 - Time taken: 3.84 seconds\n"
     ]
    },
    {
     "name": "stderr",
     "output_type": "stream",
     "text": [
      "C:\\Users\\HOME\\anaconda3\\lib\\site-packages\\spacy\\training\\iob_utils.py:141: UserWarning: [W030] Some entities could not be aligned in the text \"تیل 0.25 کپ\" with entities \"[(0, 3, 'Ingredient'), (4, 5, 'Quantity'), (6, 11,...\". Use `spacy.training.offsets_to_biluo_tags(nlp.make_doc(text), entities)` to check the alignment. Misaligned entities ('-') will be ignored during training.\n",
      "  warnings.warn(\n"
     ]
    },
    {
     "name": "stdout",
     "output_type": "stream",
     "text": [
      "Epoch 78 - Time taken: 3.90 seconds\n",
      "Epoch 79 - Time taken: 3.95 seconds\n",
      "Epoch 80 - Time taken: 4.00 seconds\n",
      "Epoch 81 - Time taken: 4.03 seconds\n",
      "Epoch 82 - Time taken: 4.08 seconds\n"
     ]
    },
    {
     "name": "stderr",
     "output_type": "stream",
     "text": [
      "C:\\Users\\HOME\\anaconda3\\lib\\site-packages\\spacy\\training\\iob_utils.py:141: UserWarning: [W030] Some entities could not be aligned in the text \"انڈر کٹ 200 گرام\" with entities \"[(0, 7, 'Ingredient'), (8, 9, 'Quantity'), (10, 16...\". Use `spacy.training.offsets_to_biluo_tags(nlp.make_doc(text), entities)` to check the alignment. Misaligned entities ('-') will be ignored during training.\n",
      "  warnings.warn(\n"
     ]
    },
    {
     "name": "stdout",
     "output_type": "stream",
     "text": [
      "Epoch 83 - Time taken: 4.13 seconds\n",
      "Epoch 84 - Time taken: 4.18 seconds\n",
      "Epoch 85 - Time taken: 4.23 seconds\n",
      "Epoch 86 - Time taken: 4.27 seconds\n",
      "Epoch 87 - Time taken: 4.33 seconds\n"
     ]
    },
    {
     "name": "stderr",
     "output_type": "stream",
     "text": [
      "C:\\Users\\HOME\\anaconda3\\lib\\site-packages\\spacy\\training\\iob_utils.py:141: UserWarning: [W030] Some entities could not be aligned in the text \"آلو  2-3 عدد\" with entities \"[(0, 4, 'Ingredient'), (5, 6, 'Quantity'), (7, 12,...\". Use `spacy.training.offsets_to_biluo_tags(nlp.make_doc(text), entities)` to check the alignment. Misaligned entities ('-') will be ignored during training.\n",
      "  warnings.warn(\n",
      "C:\\Users\\HOME\\anaconda3\\lib\\site-packages\\spacy\\training\\iob_utils.py:141: UserWarning: [W030] Some entities could not be aligned in the text \"میدہ  4  کھانے کا چمچہ\" with entities \"[(0, 5, 'Ingredient'), (6, 7, 'Quantity'), (8, 22,...\". Use `spacy.training.offsets_to_biluo_tags(nlp.make_doc(text), entities)` to check the alignment. Misaligned entities ('-') will be ignored during training.\n",
      "  warnings.warn(\n"
     ]
    },
    {
     "name": "stdout",
     "output_type": "stream",
     "text": [
      "Epoch 88 - Time taken: 4.40 seconds\n",
      "Epoch 89 - Time taken: 4.45 seconds\n",
      "Epoch 90 - Time taken: 4.50 seconds\n",
      "Epoch 91 - Time taken: 4.55 seconds\n",
      "Epoch 92 - Time taken: 4.59 seconds\n"
     ]
    },
    {
     "name": "stderr",
     "output_type": "stream",
     "text": [
      "C:\\Users\\HOME\\anaconda3\\lib\\site-packages\\spacy\\training\\iob_utils.py:141: UserWarning: [W030] Some entities could not be aligned in the text \"پودینہ  2 کھانے کا چمچہ\" with entities \"[(0, 7, 'Ingredient'), (8, 9, 'Quantity'), (10, 23...\". Use `spacy.training.offsets_to_biluo_tags(nlp.make_doc(text), entities)` to check the alignment. Misaligned entities ('-') will be ignored during training.\n",
      "  warnings.warn(\n",
      "C:\\Users\\HOME\\anaconda3\\lib\\site-packages\\spacy\\training\\iob_utils.py:141: UserWarning: [W030] Some entities could not be aligned in the text \"چکن 14-16 ٹکرے\" with entities \"[(0, 3, 'Ingredient'), (4, 5, 'Quantity'), (6, 14,...\". Use `spacy.training.offsets_to_biluo_tags(nlp.make_doc(text), entities)` to check the alignment. Misaligned entities ('-') will be ignored during training.\n",
      "  warnings.warn(\n"
     ]
    },
    {
     "name": "stdout",
     "output_type": "stream",
     "text": [
      "Epoch 93 - Time taken: 4.63 seconds\n",
      "Epoch 94 - Time taken: 4.68 seconds\n",
      "Epoch 95 - Time taken: 4.73 seconds\n",
      "Epoch 96 - Time taken: 4.77 seconds\n",
      "Epoch 97 - Time taken: 4.80 seconds\n"
     ]
    },
    {
     "name": "stderr",
     "output_type": "stream",
     "text": [
      "C:\\Users\\HOME\\anaconda3\\lib\\site-packages\\spacy\\training\\iob_utils.py:141: UserWarning: [W030] Some entities could not be aligned in the text \"تیل 0.25  کپ\" with entities \"[(0, 3, 'Ingredient'), (4, 5, 'Quantity'), (6, 12,...\". Use `spacy.training.offsets_to_biluo_tags(nlp.make_doc(text), entities)` to check the alignment. Misaligned entities ('-') will be ignored during training.\n",
      "  warnings.warn(\n"
     ]
    },
    {
     "name": "stdout",
     "output_type": "stream",
     "text": [
      "Epoch 98 - Time taken: 4.86 seconds\n",
      "Epoch 99 - Time taken: 4.91 seconds\n",
      "Epoch 100 - Time taken: 4.98 seconds\n",
      "Epoch 101 - Time taken: 5.03 seconds\n",
      "Epoch 102 - Time taken: 5.09 seconds\n",
      "Epoch 103 - Time taken: 5.14 seconds\n",
      "Epoch 104 - Time taken: 5.18 seconds\n",
      "Epoch 105 - Time taken: 5.22 seconds\n",
      "Epoch 106 - Time taken: 5.26 seconds\n"
     ]
    },
    {
     "name": "stderr",
     "output_type": "stream",
     "text": [
      "C:\\Users\\HOME\\anaconda3\\lib\\site-packages\\spacy\\training\\iob_utils.py:141: UserWarning: [W030] Some entities could not be aligned in the text \"لہسن  5 جوے\" with entities \"[(0, 5, 'Ingredient'), (6, 7, 'Quantity'), (8, 11,...\". Use `spacy.training.offsets_to_biluo_tags(nlp.make_doc(text), entities)` to check the alignment. Misaligned entities ('-') will be ignored during training.\n",
      "  warnings.warn(\n"
     ]
    },
    {
     "name": "stdout",
     "output_type": "stream",
     "text": [
      "Epoch 107 - Time taken: 5.32 seconds\n",
      "Epoch 108 - Time taken: 5.39 seconds\n",
      "Epoch 109 - Time taken: 5.44 seconds\n",
      "Epoch 110 - Time taken: 5.50 seconds\n",
      "Epoch 111 - Time taken: 5.55 seconds\n",
      "Epoch 112 - Time taken: 5.60 seconds\n",
      "Epoch 113 - Time taken: 5.65 seconds\n",
      "Epoch 114 - Time taken: 5.70 seconds\n",
      "Epoch 115 - Time taken: 5.75 seconds\n"
     ]
    },
    {
     "name": "stderr",
     "output_type": "stream",
     "text": [
      "C:\\Users\\HOME\\anaconda3\\lib\\site-packages\\spacy\\training\\iob_utils.py:141: UserWarning: [W030] Some entities could not be aligned in the text \"پسی سفید مرچ  0.25 چائے کا چمچہ\" with entities \"[(0, 13, 'Ingredient'), (14, 15, 'Quantity'), (16,...\". Use `spacy.training.offsets_to_biluo_tags(nlp.make_doc(text), entities)` to check the alignment. Misaligned entities ('-') will be ignored during training.\n",
      "  warnings.warn(\n"
     ]
    },
    {
     "name": "stdout",
     "output_type": "stream",
     "text": [
      "Epoch 116 - Time taken: 5.79 seconds\n",
      "Epoch 117 - Time taken: 5.84 seconds\n",
      "Epoch 118 - Time taken: 5.88 seconds\n",
      "Epoch 119 - Time taken: 5.93 seconds\n",
      "Epoch 120 - Time taken: 5.99 seconds\n",
      "Epoch 121 - Time taken: 6.05 seconds\n",
      "Epoch 122 - Time taken: 6.09 seconds\n",
      "Epoch 123 - Time taken: 6.15 seconds\n",
      "Epoch 124 - Time taken: 6.19 seconds\n",
      "Epoch 125 - Time taken: 6.24 seconds\n"
     ]
    },
    {
     "name": "stderr",
     "output_type": "stream",
     "text": [
      "C:\\Users\\HOME\\anaconda3\\lib\\site-packages\\spacy\\training\\iob_utils.py:141: UserWarning: [W030] Some entities could not be aligned in the text \"چکن کی یخنی 4 گلاس \" with entities \"[(0, 11, 'Ingredient'), (12, 13, 'Quantity'), (14,...\". Use `spacy.training.offsets_to_biluo_tags(nlp.make_doc(text), entities)` to check the alignment. Misaligned entities ('-') will be ignored during training.\n",
      "  warnings.warn(\n"
     ]
    },
    {
     "name": "stdout",
     "output_type": "stream",
     "text": [
      "Epoch 126 - Time taken: 6.30 seconds\n",
      "Epoch 127 - Time taken: 6.35 seconds\n",
      "Epoch 128 - Time taken: 6.41 seconds\n",
      "Epoch 129 - Time taken: 6.48 seconds\n",
      "Epoch 130 - Time taken: 6.53 seconds\n",
      "Epoch 131 - Time taken: 6.59 seconds\n",
      "Epoch 132 - Time taken: 6.65 seconds\n",
      "Epoch 133 - Time taken: 6.71 seconds\n",
      "Epoch 134 - Time taken: 6.77 seconds\n",
      "Epoch 135 - Time taken: 6.82 seconds\n",
      "Epoch 136 - Time taken: 6.86 seconds\n",
      "Epoch 137 - Time taken: 6.92 seconds\n",
      "Epoch 138 - Time taken: 6.96 seconds\n",
      "Epoch 139 - Time taken: 7.01 seconds\n",
      "Epoch 140 - Time taken: 7.07 seconds\n",
      "Epoch 141 - Time taken: 7.12 seconds\n",
      "Epoch 142 - Time taken: 7.15 seconds\n",
      "Epoch 143 - Time taken: 7.20 seconds\n",
      "Epoch 144 - Time taken: 7.25 seconds\n",
      "Epoch 145 - Time taken: 7.29 seconds\n",
      "Epoch 146 - Time taken: 7.36 seconds\n",
      "Epoch 147 - Time taken: 7.40 seconds\n",
      "Epoch 148 - Time taken: 7.45 seconds\n"
     ]
    },
    {
     "name": "stderr",
     "output_type": "stream",
     "text": [
      "C:\\Users\\HOME\\anaconda3\\lib\\site-packages\\spacy\\training\\iob_utils.py:141: UserWarning: [W030] Some entities could not be aligned in the text \"مچھلی کے فلے 300 گرام\" with entities \"[(0, 12, 'Ingredient'), (13, 14, 'Quantity'), (15,...\". Use `spacy.training.offsets_to_biluo_tags(nlp.make_doc(text), entities)` to check the alignment. Misaligned entities ('-') will be ignored during training.\n",
      "  warnings.warn(\n",
      "C:\\Users\\HOME\\anaconda3\\lib\\site-packages\\spacy\\training\\iob_utils.py:141: UserWarning: [W030] Some entities could not be aligned in the text \"نمک 2023-01-02 00:00:00 چائے کا چمچہ\" with entities \"[(0, 3, 'Ingredient'), (4, 5, 'Quantity'), (6, 36,...\". Use `spacy.training.offsets_to_biluo_tags(nlp.make_doc(text), entities)` to check the alignment. Misaligned entities ('-') will be ignored during training.\n",
      "  warnings.warn(\n"
     ]
    },
    {
     "name": "stdout",
     "output_type": "stream",
     "text": [
      "Epoch 149 - Time taken: 7.52 seconds\n",
      "Epoch 150 - Time taken: 7.60 seconds\n",
      "Epoch 151 - Time taken: 7.67 seconds\n",
      "Epoch 152 - Time taken: 7.73 seconds\n",
      "Epoch 153 - Time taken: 7.79 seconds\n",
      "Epoch 154 - Time taken: 7.88 seconds\n",
      "Epoch 155 - Time taken: 7.93 seconds\n",
      "Epoch 156 - Time taken: 8.00 seconds\n",
      "Epoch 157 - Time taken: 8.05 seconds\n",
      "Epoch 158 - Time taken: 8.10 seconds\n",
      "Epoch 159 - Time taken: 8.16 seconds\n",
      "Epoch 160 - Time taken: 8.21 seconds\n"
     ]
    },
    {
     "name": "stderr",
     "output_type": "stream",
     "text": [
      "C:\\Users\\HOME\\anaconda3\\lib\\site-packages\\spacy\\training\\iob_utils.py:141: UserWarning: [W030] Some entities could not be aligned in the text \"کشمیری مرچیں 10 عدد\" with entities \"[(0, 12, 'Ingredient'), (13, 14, 'Quantity'), (15,...\". Use `spacy.training.offsets_to_biluo_tags(nlp.make_doc(text), entities)` to check the alignment. Misaligned entities ('-') will be ignored during training.\n",
      "  warnings.warn(\n"
     ]
    },
    {
     "name": "stdout",
     "output_type": "stream",
     "text": [
      "Epoch 161 - Time taken: 8.27 seconds\n",
      "Epoch 162 - Time taken: 8.33 seconds\n",
      "Epoch 163 - Time taken: 8.38 seconds\n",
      "Epoch 164 - Time taken: 8.42 seconds\n",
      "Epoch 165 - Time taken: 8.50 seconds\n",
      "Epoch 166 - Time taken: 8.55 seconds\n",
      "Epoch 167 - Time taken: 8.62 seconds\n",
      "Epoch 168 - Time taken: 8.67 seconds\n"
     ]
    },
    {
     "name": "stderr",
     "output_type": "stream",
     "text": [
      "C:\\Users\\HOME\\anaconda3\\lib\\site-packages\\spacy\\training\\iob_utils.py:141: UserWarning: [W030] Some entities could not be aligned in the text \"فریش لال مرچ  1 عدد\" with entities \"[(0, 13, 'Ingredient'), (14, 15, 'Quantity'), (16,...\". Use `spacy.training.offsets_to_biluo_tags(nlp.make_doc(text), entities)` to check the alignment. Misaligned entities ('-') will be ignored during training.\n",
      "  warnings.warn(\n"
     ]
    },
    {
     "name": "stdout",
     "output_type": "stream",
     "text": [
      "Epoch 169 - Time taken: 8.74 seconds\n",
      "Epoch 170 - Time taken: 8.80 seconds\n",
      "Epoch 171 - Time taken: 8.85 seconds\n",
      "Epoch 172 - Time taken: 8.90 seconds\n",
      "Epoch 173 - Time taken: 8.95 seconds\n"
     ]
    },
    {
     "name": "stderr",
     "output_type": "stream",
     "text": [
      "C:\\Users\\HOME\\anaconda3\\lib\\site-packages\\spacy\\training\\iob_utils.py:141: UserWarning: [W030] Some entities could not be aligned in the text \"لال آٹا  4 چائے کا چمچہ\" with entities \"[(0, 8, 'Ingredient'), (9, 10, 'Quantity'), (11, 2...\". Use `spacy.training.offsets_to_biluo_tags(nlp.make_doc(text), entities)` to check the alignment. Misaligned entities ('-') will be ignored during training.\n",
      "  warnings.warn(\n"
     ]
    },
    {
     "name": "stdout",
     "output_type": "stream",
     "text": [
      "Epoch 174 - Time taken: 9.03 seconds\n",
      "Epoch 175 - Time taken: 9.08 seconds\n",
      "Epoch 176 - Time taken: 9.14 seconds\n",
      "Epoch 177 - Time taken: 9.19 seconds\n",
      "Epoch 178 - Time taken: 9.24 seconds\n",
      "Epoch 179 - Time taken: 9.32 seconds\n",
      "Epoch 180 - Time taken: 9.37 seconds\n",
      "Epoch 181 - Time taken: 9.43 seconds\n",
      "Epoch 182 - Time taken: 9.49 seconds\n",
      "Epoch 183 - Time taken: 9.55 seconds\n",
      "Epoch 184 - Time taken: 9.62 seconds\n",
      "Epoch 185 - Time taken: 9.67 seconds\n",
      "Epoch 186 - Time taken: 9.72 seconds\n",
      "Epoch 187 - Time taken: 9.76 seconds\n",
      "Epoch 188 - Time taken: 9.83 seconds\n",
      "Epoch 189 - Time taken: 9.88 seconds\n",
      "Epoch 190 - Time taken: 9.93 seconds\n",
      "Epoch 191 - Time taken: 9.98 seconds\n"
     ]
    },
    {
     "name": "stderr",
     "output_type": "stream",
     "text": [
      "C:\\Users\\HOME\\anaconda3\\lib\\site-packages\\spacy\\training\\iob_utils.py:141: UserWarning: [W030] Some entities could not be aligned in the text \"پودین 0.25  گٹھی\" with entities \"[(0, 5, 'Ingredient'), (6, 7, 'Quantity'), (8, 16,...\". Use `spacy.training.offsets_to_biluo_tags(nlp.make_doc(text), entities)` to check the alignment. Misaligned entities ('-') will be ignored during training.\n",
      "  warnings.warn(\n"
     ]
    },
    {
     "name": "stdout",
     "output_type": "stream",
     "text": [
      "Epoch 192 - Time taken: 10.05 seconds\n",
      "Epoch 193 - Time taken: 10.09 seconds\n",
      "Epoch 194 - Time taken: 10.18 seconds\n",
      "Epoch 195 - Time taken: 10.25 seconds\n"
     ]
    },
    {
     "name": "stderr",
     "output_type": "stream",
     "text": [
      "C:\\Users\\HOME\\anaconda3\\lib\\site-packages\\spacy\\training\\iob_utils.py:141: UserWarning: [W030] Some entities could not be aligned in the text \"رائی  1 چائے کا چمچہ\" with entities \"[(0, 5, 'Ingredient'), (6, 7, 'Quantity'), (8, 20,...\". Use `spacy.training.offsets_to_biluo_tags(nlp.make_doc(text), entities)` to check the alignment. Misaligned entities ('-') will be ignored during training.\n",
      "  warnings.warn(\n"
     ]
    },
    {
     "name": "stdout",
     "output_type": "stream",
     "text": [
      "Epoch 196 - Time taken: 10.32 seconds\n",
      "Epoch 197 - Time taken: 10.39 seconds\n",
      "Epoch 198 - Time taken: 10.46 seconds\n",
      "Epoch 199 - Time taken: 10.54 seconds\n",
      "Epoch 200 - Time taken: 10.59 seconds\n"
     ]
    }
   ],
   "source": [
    "# Train the NER model\n",
    "n_iter = 200\n",
    "batch_size = 4\n",
    "optimizer = nlp.begin_training()\n",
    "\n",
    "start_time = time()\n",
    "for i in range(n_iter):\n",
    "    losses = {}\n",
    "    random.shuffle(train_data)\n",
    "    batches = minibatch(train_data, size=compounding(batch_size, 32, 0.01))\n",
    "    for batch in batches:\n",
    "        text, annotations = batch[0]\n",
    "        doc = nlp.make_doc(text)\n",
    "        example = Example.from_dict(doc, annotations)\n",
    "        nlp.update([example], drop=0.35, sgd=optimizer, losses=losses)\n",
    "        epoch_loss = losses[\"ner\"]\n",
    "    print(f\"Epoch {i+1} - Time taken: {time()-start_time:.2f} seconds\")\n",
    "\n",
    "\n"
   ]
  },
  {
   "attachments": {},
   "cell_type": "markdown",
   "metadata": {
    "editable": false
   },
   "source": [
    "## Test the Model "
   ]
  },
  {
   "cell_type": "code",
   "execution_count": 34,
   "metadata": {
    "editable": false,
    "execution": {
     "iopub.execute_input": "2023-05-06T10:25:53.140147Z",
     "iopub.status.busy": "2023-05-06T10:25:53.139217Z",
     "iopub.status.idle": "2023-05-06T10:25:53.575813Z",
     "shell.execute_reply": "2023-05-06T10:25:53.574801Z",
     "shell.execute_reply.started": "2023-05-06T10:25:53.140093Z"
    }
   },
   "outputs": [
    {
     "name": "stdout",
     "output_type": "stream",
     "text": [
      "Text: کٹی کالی مرچ 1 چائے کا چمچہ\n",
      "Entities: [('کٹی کالی مرچ', 'Ingredient'), ('1', 'Quantity'), ('چائے کا چمچہ', 'Unit')]\n",
      "\n",
      "Text: ہلدی 1 چائے کا چمچہ\n",
      "Entities: [('ہلدی', 'Ingredient'), ('1', 'Quantity'), ('چائے کا چمچہ', 'Unit')]\n",
      "\n",
      "Text: مکھن 2  کھانے کا چمچہ\n",
      "Entities: [('مکھن', 'Ingredient'), ('2', 'Quantity')]\n",
      "\n",
      "Text: کٹا زیرہ 1 چائے کا چمچہ\n",
      "Entities: [('کٹا زیرہ', 'Ingredient'), ('1', 'Quantity'), ('چائے کا چمچہ', 'Unit')]\n",
      "\n",
      "Text: بھنا ہوا زیرہ 2 چائے کا چمچہ\n",
      "Entities: [('بھنا ہوا زیرہ', 'Ingredient'), ('2', 'Quantity'), ('چائے کا چمچہ', 'Unit')]\n",
      "\n",
      "Text: لال مرچ 2 چائے کا چمچہ\n",
      "Entities: [('لال مرچ', 'Ingredient'), ('2', 'Quantity'), ('چائے کا چمچہ', 'Unit')]\n",
      "\n",
      "Text: دہی 250 گرام\n",
      "Entities: [('دہی', 'Ingredient'), ('250', 'Quantity'), ('گرام', 'Ingredient')]\n",
      "\n",
      "Text: ثابت لال مرچ  5 عدد\n",
      "Entities: [('ثابت لال مرچ', 'Ingredient'), ('5', 'Quantity'), ('عدد', 'Unit')]\n",
      "\n",
      "Text: ہرا دھنیا 0.25 گٹھی\n",
      "Entities: [('ہرا دھنیا', 'Ingredient'), ('0.25', 'Quantity'), ('گٹھی', 'Unit')]\n",
      "\n",
      "Text: بھنی پسی ثابت گول مرچ 1 چائے کا چمچہ\n",
      "Entities: [('بھنی پسی ثابت گول مرچ', 'Ingredient'), ('1', 'Quantity'), ('چائے کا چمچہ', 'Unit')]\n",
      "\n",
      "Text: گرم مصالحہ 1 کھانے کے چمچ\n",
      "Entities: [('گرم مصالحہ', 'Ingredient'), ('1', 'Quantity'), ('کھانے کے چمچ', 'Unit')]\n",
      "\n",
      "Text: بھُنا ہو امیدہ 3 کھانے کا چمچہ\n",
      "Entities: [('بھُنا ہو امیدہ', 'Ingredient'), ('3', 'Quantity'), ('کھانے کا چمچہ', 'Unit')]\n",
      "\n",
      "Text: ہری مرچیں 2 عدد\n",
      "Entities: [('ہری مرچیں', 'Ingredient'), ('2', 'Quantity'), ('عدد', 'Unit')]\n",
      "\n",
      "Text: رائی دانے 2 چائے کا چمچہ\n",
      "Entities: [('رائی دانے', 'Ingredient'), ('2', 'Quantity'), ('چائے کا چمچہ', 'Unit')]\n",
      "\n",
      "Text: انڈا 1 عدد\n",
      "Entities: [('انڈا', 'Ingredient'), ('1', 'Quantity'), ('عدد', 'Unit')]\n",
      "\n",
      "Text: سیاہ مرچ 8 عدد\n",
      "Entities: [('سیاہ مرچ', 'Ingredient'), ('8', 'Quantity'), ('عدد', 'Unit')]\n",
      "\n",
      "Text: باریک کٹی ادرک 2 کھانے کا چمچہ\n",
      "Entities: [('باریک کٹی ادرک', 'Ingredient'), ('2', 'Quantity'), ('کھانے کا چمچہ', 'Unit')]\n",
      "\n",
      "Text: براؤن شوگر 1 چائے کا چمچہ\n",
      "Entities: [('براؤن شوگر', 'Ingredient'), ('1', 'Quantity'), ('چائے کا چمچہ', 'Unit')]\n",
      "\n",
      "Text: کٹی ُہوئی لال مرچ 1 چائے کا چمچہ\n",
      "Entities: [('کٹی ُہوئی لال مرچ', 'Ingredient'), ('1', 'Quantity'), ('چائے کا چمچہ', 'Unit')]\n",
      "\n",
      "Text: پسا ہوا کچا پپیتا 3 کھانے کا چمچہ\n",
      "Entities: [('پسا ہوا کچا پپیتا', 'Ingredient'), ('3', 'Quantity'), ('کھانے کا چمچہ', 'Unit')]\n",
      "\n",
      "Text: آئسنگ شوگر 100 گرام\n",
      "Entities: [('آئسنگ شوگر', 'Ingredient'), ('100', 'Quantity'), ('گرام', 'Unit')]\n",
      "\n",
      "Text: مسٹرڈ پیسٹ 1 چائے کا چمچہ\n",
      "Entities: [('مسٹرڈ پیسٹ', 'Ingredient'), ('1', 'Quantity'), ('چائے کا چمچہ', 'Unit')]\n",
      "\n",
      "Text: کوکونٹ ملک 1 ٹن\n",
      "Entities: [('کوکونٹ ملک', 'Ingredient'), ('1', 'Quantity'), ('ٹن', 'Unit')]\n",
      "\n",
      "Text: پھلیاں 1 پاﺅ\n",
      "Entities: [('پھلیاں', 'Ingredient'), ('1', 'Quantity'), ('پاﺅ', 'Unit')]\n",
      "\n",
      "Text: باریک کٹا لہسن 1  کھانے کا چمچہ\n",
      "Entities: [('باریک کٹا لہسن', 'Ingredient'), ('1', 'Quantity')]\n",
      "\n",
      "Text: چیز سلائس 3 عدد\n",
      "Entities: [('چیز سلائس', 'Ingredient'), ('3', 'Quantity'), ('عدد', 'Unit')]\n",
      "\n",
      "Text: انڈے  2 عدد\n",
      "Entities: [('انڈے\\xa0 ', 'Ingredient'), ('2', 'Quantity'), ('عدد', 'Unit')]\n",
      "\n",
      "Text: ثابت لہسن 1 ڈلی\n",
      "Entities: [('ثابت لہسن', 'Ingredient'), ('1', 'Quantity'), ('ڈلی', 'Unit')]\n",
      "\n",
      "Text: باریک کٹا سویا 2 گٹھی\n",
      "Entities: [('باریک کٹا سویا', 'Ingredient'), ('2', 'Quantity'), ('گٹھی', 'Unit')]\n",
      "\n",
      "Text: لیموں  2 عدد\n",
      "Entities: [('لیموں  ', 'Ingredient'), ('2', 'Quantity'), ('عدد', 'Unit')]\n",
      "\n",
      "Text: چھوٹی الائچی 4 عدد\n",
      "Entities: [('چھوٹی الائچی', 'Ingredient'), ('4', 'Quantity'), ('عدد', 'Unit')]\n",
      "\n",
      "Text: انڈے 2 عدد\n",
      "Entities: [('انڈے', 'Ingredient'), ('2', 'Quantity'), ('عدد', 'Unit')]\n",
      "\n",
      "Text: گاجر 1/2 کلو \n",
      "Entities: [('گاجر', 'Ingredient'), ('1/2', 'Quantity'), ('کلو', 'Unit')]\n",
      "\n",
      "Text: تل کا تیل 1 چائے کا چمچہ\n",
      "Entities: [('تل کا تیل', 'Ingredient'), ('1', 'Quantity'), ('چائے کا چمچہ', 'Unit')]\n",
      "\n",
      "Text: لیموں 4 عدد\n",
      "Entities: [('لیموں', 'Ingredient'), ('4', 'Quantity'), ('عدد', 'Unit')]\n",
      "\n",
      "Text: کٹی لال مرچ 1 چائے کا چمچہ\n",
      "Entities: [('کٹی لال مرچ', 'Ingredient'), ('1', 'Quantity'), ('چائے کا چمچہ', 'Unit')]\n",
      "\n",
      "Text: لیمن اسکن 1 چائے کا چمچہ\n",
      "Entities: [('لیمن اسکن', 'Ingredient'), ('1', 'Quantity'), ('چائے کا چمچہ', 'Unit')]\n",
      "\n",
      "Text: درمیانی گاجر 1 عدد\n",
      "Entities: [('درمیانی گاجر', 'Ingredient'), ('1', 'Quantity'), ('عدد', 'Unit')]\n",
      "\n",
      "Text: انڈہ 1 عدد\n",
      "Entities: [('انڈہ', 'Ingredient'), ('1', 'Quantity'), ('عدد', 'Unit')]\n",
      "\n",
      "Text: لیموں کا رس 2 کھانے کے چمچ\n",
      "Entities: [('لیموں کا رس', 'Ingredient'), ('2', 'Quantity'), ('کھانے کے چمچ', 'Unit')]\n",
      "\n",
      "Text: ڈبل روٹی کا چُورہ 1 پیالی\n",
      "Entities: [('ڈبل روٹی کا چُورہ', 'Ingredient'), ('1', 'Quantity'), ('پیالی', 'Unit')]\n",
      "\n",
      "Text: زیرہ 1  کھانے کا چمچہ\n",
      "Entities: [('زیرہ', 'Ingredient'), ('1', 'Quantity')]\n",
      "\n",
      "Text: کچی پسی پیاز 2 عدد\n",
      "Entities: [('کچی پسی پیاز', 'Ingredient'), ('2', 'Quantity'), ('عدد', 'Unit')]\n",
      "\n",
      "Text: ہلدی 1 چائے کا چمچہ\n",
      "Entities: [('ہلدی', 'Ingredient'), ('1', 'Quantity'), ('چائے کا چمچہ', 'Unit')]\n",
      "\n",
      "Text: کالی مرچ 1  چائے کا چمچہ\n",
      "Entities: [('کالی مرچ', 'Ingredient'), ('1', 'Quantity')]\n",
      "\n",
      "Text: تازہ دودھ 2 لیٹر\n",
      "Entities: [('تازہ دودھ', 'Ingredient'), ('2', 'Quantity'), ('لیٹر', 'Unit')]\n",
      "\n",
      "Text: ہلدی 0.25 چائے کا چمچہ\n",
      "Entities: [('ہلدی 0.25 چائے کا چمچہ', 'Ingredient')]\n",
      "\n",
      "Text: بغیر چھلا لہسن 1 ڈالی \n",
      "Entities: [('بغیر چھلا لہسن', 'Ingredient'), ('1', 'Quantity'), ('ڈالی', 'Unit')]\n",
      "\n",
      "Text: پستے  50 گرام\n",
      "Entities: [('پستے\\xa0 ', 'Ingredient'), ('50', 'Quantity'), ('گرام', 'Ingredient')]\n",
      "\n",
      "Text: کارن فلار 2 کھانے کے چمچ\n",
      "Entities: [('کارن فلار', 'Ingredient'), ('2', 'Quantity'), ('کھانے کے چمچ', 'Unit')]\n",
      "\n",
      "Text: گاجر 1 عدد\n",
      "Entities: [('گاجر', 'Ingredient'), ('1', 'Quantity'), ('عدد', 'Unit')]\n",
      "\n",
      "Text: سونف 2 چائے کا چمچہ\n",
      "Entities: [('سونف', 'Ingredient'), ('2', 'Quantity'), ('چائے کا چمچہ', 'Unit')]\n",
      "\n",
      "Text: سادہ آتا 1 پیالی\n",
      "Entities: [('سادہ آتا', 'Ingredient'), ('1', 'Quantity'), ('پیالی', 'Unit')]\n",
      "\n",
      "Text: فرنچ مسٹرڈ پیسٹ 1 چائے کا چمچہ\n",
      "Entities: [('فرنچ مسٹرڈ پیسٹ', 'Ingredient'), ('1', 'Quantity'), ('چائے کا چمچہ', 'Unit')]\n",
      "\n",
      "Text: ایچ پی سوس 1  کھانے کا چمچہ\n",
      "Entities: [('ایچ پی سوس', 'Ingredient'), ('1', 'Quantity')]\n",
      "\n",
      "Text: لیموں کا رس 4 کھانے کے چمچے\n",
      "Entities: [('لیموں کا رس', 'Ingredient'), ('4', 'Quantity'), ('کھانے کے چمچے', 'Unit')]\n",
      "\n",
      "Text: ہرا دھنیا 3 کھانے کا چمچہ\n",
      "Entities: [('ہرا دھنیا', 'Ingredient'), ('3', 'Quantity'), ('کھانے کا چمچہ', 'Unit')]\n",
      "\n",
      "Text: چھوٹی الائچی 8 عدد\n",
      "Entities: [('چھوٹی الائچی', 'Ingredient'), ('8', 'Quantity'), ('عدد', 'Unit')]\n",
      "\n",
      "Text: ہری مرچ 2 عدد\n",
      "Entities: [('ہری مرچ', 'Ingredient'), ('2', 'Quantity'), ('عدد', 'Unit')]\n",
      "\n",
      "Text: بند گوبهی 1 کپ\n",
      "Entities: [('بند گوبهی', 'Ingredient'), ('1', 'Quantity'), ('کپ', 'Unit')]\n",
      "\n",
      "Text: دھنیا پاؤڈر 1 کپ\n",
      "Entities: [('دھنیا پاؤڈر', 'Ingredient'), ('1', 'Quantity'), ('کپ', 'Unit')]\n",
      "\n",
      "Text: چھوٹی الانچی 4 عدد\n",
      "Entities: [('چھوٹی الانچی', 'Ingredient'), ('4', 'Quantity'), ('عدد', 'Unit')]\n",
      "\n",
      "Text: دار چینی 1 ٹکڑا\n",
      "Entities: [('دار چینی', 'Ingredient'), ('1', 'Quantity'), ('ٹکڑا', 'Unit')]\n",
      "\n",
      "Text: پانی 0.25 کپ\n",
      "Entities: [('پانی 0.25 کپ', 'Ingredient')]\n",
      "\n",
      "Text: کٹی کالی مرچ 1 چائے کا چمچہ\n",
      "Entities: [('کٹی کالی مرچ', 'Ingredient'), ('1', 'Quantity'), ('چائے کا چمچہ', 'Unit')]\n",
      "\n",
      "Text: سویا سوس 2  کھانے کا چمچہ\n",
      "Entities: [('سویا سوس', 'Ingredient'), ('2', 'Quantity')]\n",
      "\n",
      "Text: مچھلی کے فلے 300 گرام\n",
      "Entities: [('مچھلی کے فلے', 'Ingredient'), ('300', 'Quantity'), ('گرام', 'Ingredient')]\n",
      "\n",
      "Text: بیسن 1 چائے کا چمچہ\n",
      "Entities: [('بیسن', 'Ingredient'), ('1', 'Quantity'), ('چائے کا چمچہ', 'Unit')]\n",
      "\n",
      "Text: کٹی لال مرچ 1 کھانے کا چمچہ\n",
      "Entities: [('کٹی لال مرچ', 'Ingredient'), ('1', 'Quantity'), ('کھانے کا چمچہ', 'Unit')]\n",
      "\n",
      "Text: میدہ 1  پیالی\n",
      "Entities: [('میدہ', 'Ingredient'), ('1', 'Quantity'), ('پیالی', 'Ingredient')]\n",
      "\n",
      "Text: ابلے بادام 10 عدد\n",
      "Entities: [('ابلے بادام', 'Ingredient'), ('10', 'Quantity'), ('عدد', 'Unit')]\n",
      "\n",
      "Text: پسی ہوئی لال مرچ 1 کھانے کا چمچہ\n",
      "Entities: [('پسی ہوئی لال مرچ', 'Ingredient'), ('1', 'Quantity'), ('کھانے کا چمچہ', 'Unit')]\n",
      "\n",
      "Text: لمبی باریک کٹی ہری مرچ 4 عدد\n",
      "Entities: [('لمبی باریک کٹی ہری مرچ', 'Ingredient'), ('4', 'Quantity'), ('عدد', 'Unit')]\n",
      "\n",
      "Text: پیاز  1 عدد\n",
      "Entities: [('پیاز\\xa0 ', 'Ingredient'), ('1', 'Quantity'), ('عدد', 'Unit')]\n",
      "\n",
      "Text: دہی 1 کپ\n",
      "Entities: [('دہی', 'Ingredient'), ('1', 'Quantity'), ('کپ', 'Unit')]\n",
      "\n",
      "Text: تیل 1 پیالی\n",
      "Entities: [('تیل', 'Ingredient'), ('1', 'Quantity'), ('پیالی', 'Unit')]\n",
      "\n",
      "Text: ہری پیاز 2 عدد\n",
      "Entities: [('ہری پیاز', 'Ingredient'), ('2', 'Quantity'), ('عدد', 'Unit')]\n",
      "\n",
      "Text: ہلدی 1 چائے کا چمچہ\n",
      "Entities: [('ہلدی', 'Ingredient'), ('1', 'Quantity'), ('چائے کا چمچہ', 'Unit')]\n",
      "\n",
      "Text: چکن (14 ٹکڑے) ½-1 کلو\n",
      "Entities: [('چکن (', 'Ingredient'), ('14', 'Quantity'), ('ٹکڑے)', 'Ingredient'), ('½-1', 'Quantity'), ('کلو', 'Ingredient')]\n",
      "\n",
      "Text: ہری مرچیں 5 ½\n",
      "Entities: [('ہری مرچیں', 'Ingredient'), ('5', 'Quantity'), ('½', 'Unit')]\n",
      "\n",
      "Text: پیاز 1 عدد\n",
      "Entities: [('پیاز', 'Ingredient'), ('1', 'Quantity'), ('عدد', 'Unit')]\n",
      "\n",
      "Text: قصوری میتھی  1 کھانے کا چمچہ\n",
      "Entities: [('قصوری میتھی  ', 'Ingredient'), ('1', 'Quantity'), ('کھانے کا چمچہ', 'Unit')]\n",
      "\n",
      "Text: باریک کٹے ٹماٹر 3 عدد\n",
      "Entities: [('باریک کٹے ٹماٹر', 'Ingredient'), ('3', 'Quantity'), ('عدد', 'Unit')]\n",
      "\n",
      "Text: میتھی دانے 7-8 عدد\n",
      "Entities: [('میتھی دانے', 'Ingredient'), ('7', 'Quantity'), ('-', 'Unit'), ('8', 'Quantity'), ('عدد', 'Unit')]\n",
      "\n",
      "Text: چنے 1 پاؤ\n",
      "Entities: [('چنے', 'Ingredient'), ('1', 'Quantity'), ('پاؤ', 'Unit')]\n",
      "\n",
      "Text: ہری مرچ 4 عدد\n",
      "Entities: [('ہری مرچ', 'Ingredient'), ('4', 'Quantity'), ('عدد', 'Unit')]\n",
      "\n"
     ]
    },
    {
     "name": "stdout",
     "output_type": "stream",
     "text": [
      "Text: پانی 2 جگ\n",
      "Entities: [('پانی', 'Ingredient'), ('2', 'Quantity'), ('جگ', 'Unit')]\n",
      "\n",
      "Text: چھلے اور اُبلے مٹر 1 پیالی\n",
      "Entities: [('چھلے اور', 'Ingredient'), ('اُبلے مٹر', 'Ingredient'), ('1', 'Quantity'), ('پیالی', 'Unit')]\n",
      "\n",
      "Text: پساگرم مصالحہ 1 چائے کا چمچہ\n",
      "Entities: [('پساگرم مصالحہ', 'Ingredient'), ('1', 'Quantity'), ('چائے کا چمچہ', 'Unit')]\n",
      "\n",
      "Text: چاول  1 کلو\n",
      "Entities: [('چاول  ', 'Ingredient'), ('1', 'Quantity'), ('کلو', 'Unit')]\n",
      "\n",
      "Text: بسکٹ 1 پیکٹ\n",
      "Entities: [('بسکٹ', 'Ingredient'), ('1', 'Quantity'), ('پیکٹ', 'Unit')]\n",
      "\n",
      "Text: مرغی کا قیمہ 125 گرام\n",
      "Entities: [('مرغی کا قیمہ', 'Ingredient'), ('125', 'Quantity'), ('گرام', 'Unit')]\n",
      "\n",
      "Text: ہرا دھنیا 1 گٹھی\n",
      "Entities: [('ہرا دھنیا', 'Ingredient'), ('1', 'Quantity'), ('گٹھی', 'Unit')]\n",
      "\n",
      "Text: گائے کے گوشت کی بوٹیاں 1 کلو\n",
      "Entities: [('گائے کے گوشت کی بوٹیاں', 'Ingredient'), ('1', 'Quantity'), ('کلو', 'Unit')]\n",
      "\n",
      "Text: پسی لال مرچ 1 کھانے کا چمچہ\n",
      "Entities: [('پسی لال مرچ', 'Ingredient'), ('1', 'Quantity'), ('کھانے کا چمچہ', 'Unit')]\n",
      "\n",
      "Text: دہی 1 پیالی\n",
      "Entities: [('دہی', 'Ingredient'), ('1', 'Quantity'), ('پیالی', 'Unit')]\n",
      "\n",
      "Text: مونگ ، مسور دال 100 گرام\n",
      "Entities: [('مونگ ، مسور دال', 'Ingredient'), ('100', 'Quantity'), ('گرام', 'Unit')]\n",
      "\n",
      "Text: پساہوا لہسن ادرک 1 کھانے کے چمچے\n",
      "Entities: [('پساہوا لہسن ادرک', 'Ingredient'), ('1', 'Quantity'), ('کھانے کے چمچے', 'Unit')]\n",
      "\n",
      "Text: چاول 2 پیالی\n",
      "Entities: [('چاول', 'Ingredient'), ('2', 'Quantity'), ('پیالی', 'Unit')]\n",
      "\n",
      "Text: انڈا 1 عدد\n",
      "Entities: [('انڈا', 'Ingredient'), ('1', 'Quantity'), ('عدد', 'Unit')]\n",
      "\n",
      "Text: پسا ہوا زیرہ 1 چائے کا چمچہ\n",
      "Entities: [('پسا ہوا زیرہ', 'Ingredient'), ('1', 'Quantity'), ('چائے کا چمچہ', 'Unit')]\n",
      "\n",
      "Text: میدہ 3 کھانے کا چمچہ\n",
      "Entities: [('میدہ', 'Ingredient'), ('3', 'Quantity'), ('کھانے کا چمچہ', 'Unit')]\n",
      "\n",
      "Text: پارسلے 2  کھانے کا چمچہ\n",
      "Entities: [('پارسلے', 'Ingredient'), ('2', 'Quantity')]\n",
      "\n",
      "Text: لہسن کے جوے 4 عدد\n",
      "Entities: [('لہسن کے جوے', 'Ingredient'), ('4', 'Quantity'), ('عدد', 'Unit')]\n",
      "\n",
      "Text: پیاز 1 عدد\n",
      "Entities: [('پیاز', 'Ingredient'), ('1', 'Quantity'), ('عدد', 'Unit')]\n",
      "\n",
      "Text: کٹی کالی مرچ 1 چائے کا چمچہ\n",
      "Entities: [('کٹی کالی مرچ', 'Ingredient'), ('1', 'Quantity'), ('چائے کا چمچہ', 'Unit')]\n",
      "\n",
      "Text: سرکہ 1  کھانے کا چمچہ\n",
      "Entities: [('سرکہ', 'Ingredient'), ('1', 'Quantity')]\n",
      "\n",
      "Text: پیاز 2 عدد\n",
      "Entities: [('پیاز', 'Ingredient'), ('2', 'Quantity'), ('عدد', 'Unit')]\n",
      "\n",
      "Text: ادرک 1 درمیانہ ٹکڑا\n",
      "Entities: [('ادرک', 'Ingredient'), ('1', 'Quantity'), ('درمیانہ ٹکڑا', 'Unit')]\n",
      "\n",
      "Text: ہری الائچی 4 عدد\n",
      "Entities: [('ہری الائچی', 'Ingredient'), ('4', 'Quantity'), ('عدد', 'Unit')]\n",
      "\n",
      "Text: پسا گرم مصالحہ 1 چائے کا چمچہ\n",
      "Entities: [('پسا گرم مصالحہ', 'Ingredient'), ('1', 'Quantity'), ('چائے کا چمچہ', 'Unit')]\n",
      "\n",
      "Text: درمیانی پیاز  1 عدد\n",
      "Entities: [('درمیانی پیاز\\xa0 ', 'Ingredient'), ('1', 'Quantity'), ('عدد', 'Unit')]\n",
      "\n",
      "Text: مرغی کے سینے 300 گرام\n",
      "Entities: [('مرغی کے سینے', 'Ingredient'), ('300', 'Quantity'), ('گرام', 'Ingredient')]\n",
      "\n",
      "Text: تیل 4  کھانے کا چمچہ\n",
      "Entities: [('تیل', 'Ingredient'), ('4', 'Quantity')]\n",
      "\n",
      "Text: پسی ہوئی کالی مرچ 0.25 چائے کا چمچہ\n",
      "Entities: [('پسی ہوئی کالی مرچ', 'Ingredient'), ('0.25', 'Quantity'), ('چائے کا', 'Unit')]\n",
      "\n",
      "Text: سونف 1  کھانے کا چمچہ\n",
      "Entities: [('سونف', 'Ingredient'), ('1', 'Quantity')]\n",
      "\n",
      "Text: چینی  ½-1 کپ\n",
      "Entities: [('چینی  ', 'Ingredient'), ('½-1', 'Quantity'), ('کپ', 'Unit')]\n",
      "\n",
      "Text: کابلی چنے  1 پیالی\n",
      "Entities: [('کابلی چنے  ', 'Ingredient'), ('1', 'Quantity'), ('پیالی', 'Unit')]\n",
      "\n",
      "Text: دہی 1 پاﺅ\n",
      "Entities: [('دہی', 'Ingredient'), ('1', 'Quantity'), ('پاﺅ', 'Unit')]\n",
      "\n",
      "Text: ثابت دھنیا 1 چائے کا چمچہ\n",
      "Entities: [('ثابت دھنیا', 'Ingredient'), ('1', 'Quantity'), ('چائے کا چمچہ', 'Unit')]\n",
      "\n",
      "Text: تیل 1 پیالی\n",
      "Entities: [('تیل', 'Ingredient'), ('1', 'Quantity'), ('پیالی', 'Unit')]\n",
      "\n",
      "Text: سویا سوس 2  کھانے کا چمچہ\n",
      "Entities: [('سویا سوس', 'Ingredient'), ('2', 'Quantity')]\n",
      "\n",
      "Text: لہسن کا پیسٹ 1 چائے کا چمچہ\n",
      "Entities: [('لہسن کا پیسٹ', 'Ingredient'), ('1', 'Quantity'), ('چائے کا چمچہ', 'Unit')]\n",
      "\n",
      "Text: پانی 1 کپ\n",
      "Entities: [('پانی', 'Ingredient'), ('1', 'Quantity'), ('کپ', 'Unit')]\n",
      "\n",
      "Text: کچا پسا ہوا پپیتا 2  کھانے کا چمچہ\n",
      "Entities: [('کچا پسا ہوا پپیتا', 'Ingredient'), ('2', 'Quantity')]\n",
      "\n",
      "Text: باریک کٹے ٹماٹر 3 عدد\n",
      "Entities: [('باریک کٹے ٹماٹر', 'Ingredient'), ('3', 'Quantity'), ('عدد', 'Unit')]\n",
      "\n",
      "Text: تندوری مصالحہ 1 کھانے کا چمچہ\n",
      "Entities: [('تندوری مصالحہ', 'Ingredient'), ('1', 'Quantity'), ('کھانے کا چمچہ', 'Unit')]\n",
      "\n",
      "Text: کچی پسی پیاز 2 عدد\n",
      "Entities: [('کچی پسی پیاز', 'Ingredient'), ('2', 'Quantity'), ('عدد', 'Unit')]\n",
      "\n",
      "Text: چاول 300 گرام\n",
      "Entities: [('چاول', 'Ingredient'), ('300', 'Quantity'), ('گرام', 'Ingredient')]\n",
      "\n",
      "Text: پودینہ  1 گٹھی\n",
      "Entities: [('پودینہ  ', 'Ingredient'), ('1', 'Quantity'), ('گٹھی', 'Unit')]\n",
      "\n",
      "Text: پسی لال مرچ 1  کھانے کا چمچہ\n",
      "Entities: [('پسی لال مرچ', 'Ingredient'), ('1', 'Quantity')]\n",
      "\n",
      "Text: دلیا 1 پیالی\n",
      "Entities: [('دلیا', 'Ingredient'), ('1', 'Quantity'), ('پیالی', 'Unit')]\n",
      "\n",
      "Text: تیل 3  کھانے کا چمچہ\n",
      "Entities: [('تیل', 'Ingredient'), ('3', 'Quantity')]\n",
      "\n",
      "Text: لیموں 6 عدد\n",
      "Entities: [('لیموں', 'Ingredient'), ('6', 'Quantity'), ('عدد', 'Unit')]\n",
      "\n",
      "Text: چکن بون لیس 300 گرام\n",
      "Entities: [('چکن بون لیس', 'Ingredient'), ('300', 'Quantity'), ('گرام', 'Ingredient')]\n",
      "\n",
      "Text: پسی سفید مرچ  0.25 چائے کا چمچہ\n",
      "Entities: [('پسی سفید مرچ', 'Ingredient'), ('0.25', 'Quantity'), ('چائے کا', 'Unit')]\n",
      "\n",
      "Text: مکھن 1 چائے کا چمچہ\n",
      "Entities: [('مکھن', 'Ingredient'), ('1', 'Quantity'), ('چائے کا چمچہ', 'Unit')]\n",
      "\n",
      "Text: کٹی لال مرچ 2 کھانے کا چمچہ\n",
      "Entities: [('کٹی لال مرچ', 'Ingredient'), ('2', 'Quantity'), ('کھانے کا چمچہ', 'Unit')]\n",
      "\n",
      "Text: رائی دانے 2 چائے کا چمچہ\n",
      "Entities: [('رائی دانے', 'Ingredient'), ('2', 'Quantity'), ('چائے کا چمچہ', 'Unit')]\n",
      "\n",
      "Text: سرسوں کا ساگ 1 کلو\n",
      "Entities: [('سرسوں کا ساگ', 'Ingredient'), ('1', 'Quantity'), ('کلو', 'Unit')]\n",
      "\n",
      "Text: ادرک 1 ٹکڑا\n",
      "Entities: [('ادرک', 'Ingredient'), ('1', 'Quantity'), ('ٹکڑا', 'Unit')]\n",
      "\n",
      "Text:  میدہ 3-4 کھانے کا چمچہ\n",
      "Entities: [('میدہ', 'Ingredient'), ('3', 'Quantity'), ('-', 'Unit'), ('4', 'Quantity'), ('کھانے کا چمچہ', 'Unit')]\n",
      "\n",
      "Text: کالا زیرہ 1 چائے کا چمچہ\n",
      "Entities: [('کالا زیرہ', 'Ingredient'), ('1', 'Quantity'), ('چائے کا چمچہ', 'Unit')]\n",
      "\n",
      "Text: پسی ہوئی کالی مرچ 1 چائے کا چمچہ\n",
      "Entities: [('پسی ہوئی کالی مرچ', 'Ingredient'), ('1', 'Quantity'), ('چائے کا چمچہ', 'Unit')]\n",
      "\n",
      "Text: سفید مکھن 200 گرام\n",
      "Entities: [('سفید مکھن', 'Ingredient'), ('200', 'Quantity'), ('گرام', 'Ingredient')]\n",
      "\n",
      "Text: فش مصالحہ  2 کھانے کا چمچہ\n",
      "Entities: [('فش مصالحہ  ', 'Ingredient'), ('2', 'Quantity'), ('کھانے کا چمچہ', 'Unit')]\n",
      "\n",
      "Text: چاٹ مصالحہ 1 کھانے کا چمچہ\n",
      "Entities: [('چاٹ مصالحہ', 'Ingredient'), ('1', 'Quantity'), ('کھانے کا چمچہ', 'Unit')]\n",
      "\n",
      "Text: پسا دھنیا  1 چائے کا چمچہ\n",
      "Entities: [('پسا دھنیا\\xa0 ', 'Ingredient'), ('1', 'Quantity'), ('چائے کا چمچہ', 'Unit')]\n",
      "\n",
      "Text: پائن ایپل 2 سلائس\n",
      "Entities: [('پائن ایپل', 'Ingredient'), ('2', 'Quantity'), ('سلائس', 'Unit')]\n",
      "\n",
      "Text: لیموں 2 عدد\n",
      "Entities: [('لیموں', 'Ingredient'), ('2', 'Quantity'), ('عدد', 'Unit')]\n",
      "\n",
      "Text: کُٹی ہوئی کالی مرچ 1 چائے کا چمچہ\n",
      "Entities: [('کُٹی ہوئی کالی مرچ', 'Ingredient'), ('1', 'Quantity'), ('چائے کا چمچہ', 'Unit')]\n",
      "\n",
      "Text: ہرا دھنیا  0.25 گڈی\n",
      "Entities: [('ہرا دھنیا', 'Ingredient'), ('0.25', 'Quantity'), ('گڈی', 'Ingredient')]\n",
      "\n",
      "Text: آئل 2 کھانے کے چمچ\n",
      "Entities: [('آئل', 'Ingredient'), ('2', 'Quantity'), ('کھانے کے چمچ', 'Unit')]\n",
      "\n",
      "Text: لہسن کاپیسٹ 1  کھانے کا چمچہ\n",
      "Entities: [('لہسن کاپیسٹ', 'Ingredient'), ('1', 'Quantity')]\n",
      "\n",
      "Text: سویا سوس 2  کھانے کا چمچہ\n",
      "Entities: [('سویا سوس', 'Ingredient'), ('2', 'Quantity')]\n",
      "\n",
      "Text: میدہ  4  کھانے کا چمچہ\n",
      "Entities: [('میدہ\\xa0 ', 'Ingredient'), ('4', 'Quantity')]\n",
      "\n",
      "Text: ادرک لہسن کا پیسٹ 1 چائے کا چمچہ\n",
      "Entities: [('ادرک لہسن کا پیسٹ', 'Ingredient'), ('1', 'Quantity'), ('چائے کا چمچہ', 'Unit')]\n",
      "\n",
      "Text: پسی ہوئی لال مرچ 1 چائے کا چمچہ\n",
      "Entities: [('پسی ہوئی لال مرچ', 'Ingredient'), ('1', 'Quantity'), ('چائے کا چمچہ', 'Unit')]\n",
      "\n",
      "Text: ادرک 1 ٹکڑا\n",
      "Entities: [('ادرک', 'Ingredient'), ('1', 'Quantity'), ('ٹکڑا', 'Unit')]\n",
      "\n",
      "Text: ٹماٹر 1 عدد\n",
      "Entities: [('ٹماٹر', 'Ingredient'), ('1', 'Quantity'), ('عدد', 'Unit')]\n",
      "\n",
      "Text: تیل 3 کھانے کا چمچہ\n",
      "Entities: [('تیل', 'Ingredient'), ('3', 'Quantity'), ('کھانے کا چمچہ', 'Unit')]\n",
      "\n",
      "Text: لیموں 3 عدد\n",
      "Entities: [('لیموں', 'Ingredient'), ('3', 'Quantity'), ('عدد', 'Unit')]\n",
      "\n",
      "Text: تیل 4 کھانے کا چمچہ\n",
      "Entities: [('تیل', 'Ingredient'), ('4', 'Quantity'), ('کھانے کا چمچہ', 'Unit')]\n",
      "\n",
      "Text: انڈے 15 عدد\n",
      "Entities: [('انڈے', 'Ingredient'), ('15', 'Quantity'), ('عدد', 'Unit')]\n",
      "\n",
      "Text: ادرک لہسن کا پیسٹ ½-1  کھانے کا چمچہ\n",
      "Entities: [('ادرک لہسن کا پیسٹ', 'Ingredient')]\n",
      "\n",
      "Text: تیل 1 پیالی\n",
      "Entities: [('تیل', 'Ingredient'), ('1', 'Quantity'), ('پیالی', 'Unit')]\n",
      "\n",
      "Text: کالی مرچ 1 چائے کا چمچہ\n",
      "Entities: [('کالی مرچ', 'Ingredient'), ('1', 'Quantity'), ('چائے کا چمچہ', 'Unit')]\n",
      "\n",
      "Text: پسی ہوئی ہلدی 1 کھانے کا چمچہ\n",
      "Entities: [('پسی ہوئی ہلدی', 'Ingredient'), ('1', 'Quantity'), ('کھانے کا چمچہ', 'Unit')]\n",
      "\n",
      "Text: ہری پیاز 1 کپ\n",
      "Entities: [('ہری پیاز', 'Ingredient'), ('1', 'Quantity'), ('کپ', 'Unit')]\n",
      "\n",
      "Text: سوسچز 4 عدد\n",
      "Entities: [('سوسچز', 'Ingredient'), ('4', 'Quantity'), ('عدد', 'Unit')]\n",
      "\n",
      "Text: ہری مرچ 4 عدد\n",
      "Entities: [('ہری مرچ', 'Ingredient'), ('4', 'Quantity'), ('عدد', 'Unit')]\n",
      "\n",
      "Text: اُبلے ہوئے ٹماٹر 2 عدد\n",
      "Entities: [('اُبلے ہوئے ٹماٹر', 'Ingredient'), ('2', 'Quantity'), ('عدد', 'Unit')]\n",
      "\n",
      "Text: لہسن چوپڈ 4 جوئے\n",
      "Entities: [('لہسن چوپڈ', 'Ingredient'), ('4', 'Quantity'), ('جوئے', 'Unit')]\n",
      "\n",
      "Text: ہلدی 1  کھانے کا چمچہ\n",
      "Entities: [('ہلدی', 'Ingredient'), ('1', 'Quantity')]\n",
      "\n",
      "Text: انڈے  2 عدد\n",
      "Entities: [('انڈے\\xa0 ', 'Ingredient'), ('2', 'Quantity'), ('عدد', 'Unit')]\n",
      "\n",
      "Text: اویسٹر سوس 2 کھانے کا چمچہ\n",
      "Entities: [('اویسٹر سوس', 'Ingredient'), ('2', 'Quantity'), ('کھانے کا چمچہ', 'Unit')]\n",
      "\n",
      "Text: تیل 3  کھانے کا چمچہ\n",
      "Entities: [('تیل', 'Ingredient'), ('3', 'Quantity')]\n",
      "\n",
      "Text: تاز ہ لال مرچ 8-10 عدد\n",
      "Entities: [('تاز', 'Ingredient'), ('ہ لال مرچ', 'Ingredient'), ('8', 'Quantity'), ('-', 'Unit'), ('10', 'Quantity'), ('عدد', 'Unit')]\n",
      "\n",
      "Text: پانی 3 گلاس\n",
      "Entities: [('پانی', 'Ingredient'), ('3', 'Quantity'), ('گلاس', 'Unit')]\n",
      "\n",
      "Text: تیل 4  کھانے کا چمچہ\n",
      "Entities: [('تیل', 'Ingredient'), ('4', 'Quantity')]\n",
      "\n",
      "Text: پیاز 2 عدد\n",
      "Entities: [('پیاز', 'Ingredient'), ('2', 'Quantity'), ('عدد', 'Unit')]\n",
      "\n",
      "Text: ادرک لہسن 2 چائے کا چمچہ\n",
      "Entities: [('ادرک لہسن', 'Ingredient'), ('2', 'Quantity'), ('چائے کا چمچہ', 'Unit')]\n",
      "\n",
      "Text: اورنج جوس 1 کپ\n",
      "Entities: [('اورنج جوس', 'Ingredient'), ('1', 'Quantity'), ('کپ', 'Unit')]\n",
      "\n",
      "Text: چکن پاؤڈر 1 کھانے کا چمچہ\n",
      "Entities: [('چکن پاؤڈر', 'Ingredient'), ('1', 'Quantity'), ('کھانے کا چمچہ', 'Unit')]\n",
      "\n",
      "Text: ہر ی مرچ 2 عدد\n",
      "Entities: [('ہر ی مرچ', 'Ingredient'), ('2', 'Quantity'), ('عدد', 'Unit')]\n",
      "\n",
      "Text: پسی ہوئی لال مرچ 1 چائے کا چمچہ\n",
      "Entities: [('پسی ہوئی لال مرچ', 'Ingredient'), ('1', 'Quantity'), ('چائے کا چمچہ', 'Unit')]\n",
      "\n",
      "Text: لہسن 4 جوے\n",
      "Entities: [('لہسن', 'Ingredient'), ('4', 'Quantity'), ('جوے', 'Unit')]\n",
      "\n",
      "Text: لیموں کا رس 1 -1 ½ \n",
      "Entities: [('لیموں کا رس', 'Ingredient'), ('1', 'Quantity'), ('-1', 'Unit')]\n",
      "\n",
      "Text: سوجی 1 کپ\n",
      "Entities: [('سوجی', 'Ingredient'), ('1', 'Quantity'), ('کپ', 'Unit')]\n",
      "\n",
      "Text: چیڈر چیز 2 سلائس\n",
      "Entities: [('چیڈر چیز', 'Ingredient'), ('2', 'Quantity'), ('سلائس', 'Unit')]\n",
      "\n",
      "Text: لیموں 2 عدد\n",
      "Entities: [('لیموں', 'Ingredient'), ('2', 'Quantity'), ('عدد', 'Unit')]\n",
      "\n",
      "Text: پسی لال مرچ 1 چائے کا چمچہ\n",
      "Entities: [('پسی لال مرچ', 'Ingredient'), ('1', 'Quantity'), ('چائے کا چمچہ', 'Unit')]\n",
      "\n",
      "Text: باریک کٹی پیاز 4 عدد\n",
      "Entities: [('باریک کٹی پیاز', 'Ingredient'), ('4', 'Quantity'), ('عدد', 'Unit')]\n",
      "\n",
      "Text: کٹی سونف 1 چائے کا چمچہ\n",
      "Entities: [('کٹی سونف', 'Ingredient'), ('1', 'Quantity'), ('چائے کا چمچہ', 'Unit')]\n",
      "\n"
     ]
    }
   ],
   "source": [
    "# Test the NER model on the test data\n",
    "for text, annotations in test_data:\n",
    "    doc = nlp(text)\n",
    "    print(\"Text:\", text)\n",
    "    print(\"Entities:\", [(ent.text, ent.label_) for ent in doc.ents])\n",
    "    print(\"\")\n",
    "# Save the model to disk\n",
    "nlp.to_disk(\"urdu_ner_model\")"
   ]
  },
  {
   "attachments": {},
   "cell_type": "markdown",
   "metadata": {
    "editable": false
   },
   "source": [
    "### Let's look at a random test case."
   ]
  },
  {
   "cell_type": "code",
   "execution_count": 35,
   "metadata": {
    "editable": false,
    "execution": {
     "iopub.execute_input": "2023-05-06T10:25:53.577940Z",
     "iopub.status.busy": "2023-05-06T10:25:53.577333Z",
     "iopub.status.idle": "2023-05-06T10:25:53.589697Z",
     "shell.execute_reply": "2023-05-06T10:25:53.588426Z",
     "shell.execute_reply.started": "2023-05-06T10:25:53.577897Z"
    }
   },
   "outputs": [
    {
     "name": "stdout",
     "output_type": "stream",
     "text": [
      "Text: چنار کے پھول 1 کپ\n",
      "Entities: [('چنار کے پھول', 'Ingredient'), ('1', 'Quantity'), ('کپ', 'Unit')]\n",
      "\n"
     ]
    }
   ],
   "source": [
    "doc = nlp('چنار کے پھول 1 کپ')\n",
    "print(\"Text:\", 'چنار کے پھول 1 کپ')\n",
    "print(\"Entities:\", [(ent.text, ent.label_) for ent in doc.ents])\n",
    "print(\"\")\n"
   ]
  },
  {
   "attachments": {},
   "cell_type": "markdown",
   "metadata": {
    "editable": false
   },
   "source": [
    "## Evalution\n",
    "### Metrics\n",
    "* Precision\n",
    "* Recall\n",
    "* F1Score\n"
   ]
  },
  {
   "cell_type": "code",
   "execution_count": 36,
   "metadata": {
    "editable": false,
    "execution": {
     "iopub.execute_input": "2023-05-06T10:25:53.592345Z",
     "iopub.status.busy": "2023-05-06T10:25:53.591500Z",
     "iopub.status.idle": "2023-05-06T10:25:53.973951Z",
     "shell.execute_reply": "2023-05-06T10:25:53.972820Z",
     "shell.execute_reply.started": "2023-05-06T10:25:53.592309Z"
    }
   },
   "outputs": [
    {
     "name": "stdout",
     "output_type": "stream",
     "text": [
      "Precision: 0.86\n",
      "Recall: 0.84\n",
      "F1 score: 0.85\n"
     ]
    }
   ],
   "source": [
    "# Function to evaluate the model on a test set\n",
    "def evaluate_model(test_data):\n",
    "    # Initialize counters\n",
    "    total_true = 0\n",
    "    total_predicted = 0\n",
    "    total_correct = 0\n",
    "    \n",
    "    # Iterate over the test data\n",
    "    for text, annotations in test_data:\n",
    "        # Get the true entities\n",
    "        true_entities = set([(ent[0], ent[1], ent[2]) for ent in annotations[\"entities\"]])\n",
    "        \n",
    "        \n",
    "        # Get the predicted entities\n",
    "        doc = nlp(text)\n",
    "        predicted_entities = set([(ent.start_char, ent.end_char, ent.label_) for ent in doc.ents])\n",
    "        \n",
    "        # Update the counters\n",
    "        total_true += len(true_entities)\n",
    "        total_predicted += len(predicted_entities)\n",
    "        total_correct += len(true_entities.intersection(predicted_entities))\n",
    "    \n",
    "    # Calculate precision, recall, and F1 score\n",
    "    precision = total_correct / total_predicted if total_predicted > 0 else 0.0\n",
    "    recall = total_correct / total_true if total_true > 0 else 0.0\n",
    "    f1_score = 2 * precision * recall / (precision + recall) if precision + recall > 0 else 0.0\n",
    "    \n",
    "    # Print the evaluation metrics\n",
    "    print(f\"Precision: {precision:.2f}\")\n",
    "    print(f\"Recall: {recall:.2f}\")\n",
    "    print(f\"F1 score: {f1_score:.2f}\")\n",
    "\n",
    "# Evaluate the model on the test data\n",
    "evaluate_model(test_data)"
   ]
  },
  {
   "attachments": {},
   "cell_type": "markdown",
   "metadata": {
    "editable": false
   },
   "source": [
    "### Conclusion: \n",
    "Above are the evaluation metrics of our NER model. The precision of the model is 0.86, which means that out of all the predicted entities, 86% were correct. The recall of the model is 0.84, which means that out of all the actual entities, the model was able to correctly identify 84% of them. The F1 score is 0.85, which is the harmonic mean of precision and recall and is a measure of the overall performance of the model which is indicating better performance."
   ]
  },
  {
   "cell_type": "code",
   "execution_count": null,
   "metadata": {},
   "outputs": [],
   "source": []
  },
  {
   "cell_type": "code",
   "execution_count": null,
   "metadata": {},
   "outputs": [],
   "source": []
  },
  {
   "cell_type": "code",
   "execution_count": null,
   "metadata": {},
   "outputs": [],
   "source": []
  }
 ],
 "metadata": {
  "kernelspec": {
   "display_name": "Python 3 (ipykernel)",
   "language": "python",
   "name": "python3"
  },
  "language_info": {
   "codemirror_mode": {
    "name": "ipython",
    "version": 3
   },
   "file_extension": ".py",
   "mimetype": "text/x-python",
   "name": "python",
   "nbconvert_exporter": "python",
   "pygments_lexer": "ipython3",
   "version": "3.9.13"
  }
 },
 "nbformat": 4,
 "nbformat_minor": 4
}
