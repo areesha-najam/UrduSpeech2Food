{
  "cells": [
    {
      "cell_type": "code",
      "execution_count": 2,
      "metadata": {
        "colab": {
          "base_uri": "https://localhost:8080/"
        },
        "id": "JKqq6-q43DFB",
        "outputId": "130ee20f-7348-46fc-db50-487417e9f5b4"
      },
      "outputs": [
        {
          "output_type": "stream",
          "name": "stdout",
          "text": [
            "Mounted at /content/drive\n"
          ]
        }
      ],
      "source": [
        "from google.colab import drive\n",
        "drive.mount('/content/drive')"
      ]
    },
    {
      "cell_type": "code",
      "execution_count": 3,
      "metadata": {
        "colab": {
          "base_uri": "https://localhost:8080/"
        },
        "id": "N0M9l20m3ORv",
        "outputId": "c5dc3c4c-6359-499d-d633-417198a3b96e"
      },
      "outputs": [
        {
          "output_type": "stream",
          "name": "stdout",
          "text": [
            "/content/drive/MyDrive\n"
          ]
        }
      ],
      "source": [
        "%cd /content/drive/MyDrive/"
      ]
    },
    {
      "cell_type": "markdown",
      "metadata": {
        "id": "qgM2COXdg64J"
      },
      "source": [
        "## Import important libraries"
      ]
    },
    {
      "cell_type": "code",
      "execution_count": 8,
      "metadata": {
        "id": "NinPN6-AC4JV"
      },
      "outputs": [],
      "source": [
        "import spacy\n",
        "import re\n",
        "import pandas as pd"
      ]
    },
    {
      "cell_type": "markdown",
      "metadata": {
        "id": "k8l1zTughEFc"
      },
      "source": [
        "## Load Predictions dataset"
      ]
    },
    {
      "cell_type": "code",
      "execution_count": 23,
      "metadata": {
        "id": "rNVnPX4pibos"
      },
      "outputs": [],
      "source": [
        "preds = pd.read_csv('Speech2TextPredictions.csv')"
      ]
    },
    {
      "cell_type": "code",
      "source": [
        "preds.to_csv('Speech2TextPredictions.csv')"
      ],
      "metadata": {
        "id": "i8RRKTGxOGz3"
      },
      "execution_count": 26,
      "outputs": []
    },
    {
      "cell_type": "markdown",
      "metadata": {
        "id": "-y-kjeewhbgb"
      },
      "source": [
        "### Converting words quantities into numeric"
      ]
    },
    {
      "cell_type": "code",
      "execution_count": 27,
      "metadata": {
        "id": "C-M386hPbY8A"
      },
      "outputs": [],
      "source": [
        "urdu_counting = {'0.25': 'ایک چوتھائی', '0.5': 'آدھا', '½-1': 'ڈیڑھ','1½': 'ڈیڑھ', '½-2': 'ڈھائی',\n",
        " '2½': 'ڈھائی', '½': 'آدھا', '1': 'ایک', '2': 'دو', '3': 'تین', '4': 'چار', '5': 'پانچ', '6': 'چھ',\n",
        " '7': 'سات', '8': 'آٹھ', '9': 'نو', '10': 'دس', '11': 'گیارہ', '12': 'بارہ', '13': 'تیرہ', '14': 'چودہ',\n",
        " '15': 'پندرہ', '16': 'سولہ', '17': 'سترہ', '18': 'اٹھارہ', '19': 'انیس', '20': 'بیس', '21': 'اکیس', '22': 'بائیس',\n",
        " '23': 'تئیس', '24': 'چوبیس', '25': 'پچیس', '26': 'چھببیس', '27': 'ستائیس', '28': 'اٹھائیس', '29': 'انتیس', '30': 'تیس',\n",
        " '31': 'اکتیس', '32': 'بتیس', '33': 'تینتیس', '34': 'چونتیس', '35': 'پینتیس', '36': 'چھتیس', '37': 'سینتیس', '38': 'اڑتیس',\n",
        " '39': 'انتالیس', '40': 'چالیس', '41': 'اکتالیس', '42': 'بیالیس', '43': 'تینتالیس', '44': 'چوالیس', '45': 'پینتالیس', '46': 'چھیالیس',\n",
        " '47': 'سینتالیس', '48': 'اڑتالیس', '49': 'انچاس', '50': 'پچاس', '51': 'اکیاون', '52': 'باون', '53': 'ترپن', '54': 'چون', \n",
        " '55': 'پچپن', '56': 'چھپن', '57': 'ستاون', '58': 'اٹھاون', '59': 'انسٹھ', '60': 'ساٹھ', '61': 'اکسٹھ', '62': 'باسٹھ',\n",
        " '63': 'ترسٹھ', '64': 'چوسٹھ', '65': 'پینسٹھ', '66': 'چھیاسٹھ', '67': 'سڑسٹھ', '68': 'اٹھسٹھ', '69': 'انہتر', '70': 'ستر',\n",
        " '71': 'اکہتر', '72': 'بہتر', '73': 'تہتر', '74': 'چوہتر', '75': 'پچہتر', '76': 'چھہتر', '77': 'ستتر', '78': 'اٹھہتر',\n",
        " '79': 'اناسی', '80': 'اسی', '81': 'اکیاسی', '82': 'بیاسی', '83': 'تراسی', '84': 'چوراسی', '85': 'پچاسی', '86': 'چھیاسی',\n",
        " '87': 'ستاسی', '88': 'اٹھاسی', '89': 'نواسی', '90': 'نوے', '91': 'اکانوے', '92': 'بانوے', '93': 'ترانوے', '94': 'چورانوے',\n",
        " '95': 'پچانوے', '96': 'چھیانوے', '97': 'ستانوے', '98': 'اٹھانوے', '99': 'ننانوے', '100': 'سو', '150': 'ایک سو پچاس', '200': 'دو سو',\n",
        " '250': 'دو سو پچاس', '300': 'تین سو', '350': 'تین سو پچاس', '400': 'چار سو',\n",
        " '450': 'چار سو پچاس', '500': 'پانچ سو'}"
      ]
    },
    {
      "cell_type": "code",
      "execution_count": null,
      "metadata": {
        "id": "WGeCuDzZapAA"
      },
      "outputs": [],
      "source": [
        "nlp = spacy.load(\"Urdu_RecipeNER_Model\")"
      ]
    },
    {
      "cell_type": "code",
      "execution_count": 31,
      "metadata": {
        "id": "4SCzquUNeVMl"
      },
      "outputs": [],
      "source": [
        "urdu_numbers = {v: k for k, v in urdu_counting.items()}\n",
        "predictions = preds.replace(urdu_numbers, regex = True)"
      ]
    },
    {
      "cell_type": "code",
      "execution_count": 32,
      "metadata": {
        "colab": {
          "base_uri": "https://localhost:8080/",
          "height": 206
        },
        "id": "K1MHx3oBQ43J",
        "outputId": "fa81aeff-c72f-4aed-f67f-c8395da99877"
      },
      "outputs": [
        {
          "output_type": "execute_result",
          "data": {
            "text/plain": [
              "   Unnamed: 0           Recipe Name  \\\n",
              "0           0            بلوچی گوشت   \n",
              "1           1         فروٹی اسموتھی   \n",
              "2           2        چلی چلی جھینگے   \n",
              "3           3  کرسپ اسپنچ وِد سیلیڈ   \n",
              "4           4              کریم آلو   \n",
              "\n",
              "                                       Original Text  \\\n",
              "0  بلوچی گوشت بنانے کے اجزاء ، بون لیس مٹن ½ کلو،...   \n",
              "1   فروٹی اسموتھی بنانے کے اجزاء ، آڑو 1 کپ، درمی...   \n",
              "2  چلی چلی جھینگے بنانے کے اجزاء جھینگے ½ کلو، نا...   \n",
              "3  کرسپ اسپنچ و د سیلیڈ بنانے کے اجزاء ، چکن بریس...   \n",
              "4  کریم آلو بنانے کے اجزاء ، آلو 1 کلو، ہری پیاز ...   \n",
              "\n",
              "                              Whisper Predicted Text  \\\n",
              "0  بلوچی گوشڈر آدہ چائے کا چمچہ شملا مرچ 1 ادد ک...   \n",
              "1  فروٹی سمودی بنانے کے اتزا اڑو 1 کپ ترمیانے گیل...   \n",
              "2  چلی چلی جھنگے بنانے کے اجزا جھنگے ½ کلو ناریل ...   \n",
              "3  کرسپ سپنچ ویٹ سالٹ بنانے کے اجزاء چکن بریسٹ 2 ...   \n",
              "4  کریم آلو بنانے کے عدزہ آلو ½ کلو ہری پیاز 2 عد...   \n",
              "\n",
              "                             Wav2Vec2 Predicted Text  \n",
              "0  بلوچی گوشت بنانے کے سا مول لیس مٹ دھکیل ادرک ل...  \n",
              "1  فروٹی اس مودی بنانے کے عجز اڑو 1 کپ درمیانے کی...  \n",
              "2  چلی چلی جین گے بنانے کے جزا جیگ دھکیل ناریل قو...  \n",
              "3  کرسپسپنچوت سالٹ بنانے کے از چکن برس 2 عدد کھیر...  \n",
              "4  کریم آلو بنانے کے عصا آلو ادا کیلوں ہری پیاز 2...  "
            ],
            "text/html": [
              "\n",
              "  <div id=\"df-764bfef6-0c43-4ec9-9017-6e1bb46b82ea\">\n",
              "    <div class=\"colab-df-container\">\n",
              "      <div>\n",
              "<style scoped>\n",
              "    .dataframe tbody tr th:only-of-type {\n",
              "        vertical-align: middle;\n",
              "    }\n",
              "\n",
              "    .dataframe tbody tr th {\n",
              "        vertical-align: top;\n",
              "    }\n",
              "\n",
              "    .dataframe thead th {\n",
              "        text-align: right;\n",
              "    }\n",
              "</style>\n",
              "<table border=\"1\" class=\"dataframe\">\n",
              "  <thead>\n",
              "    <tr style=\"text-align: right;\">\n",
              "      <th></th>\n",
              "      <th>Unnamed: 0</th>\n",
              "      <th>Recipe Name</th>\n",
              "      <th>Original Text</th>\n",
              "      <th>Whisper Predicted Text</th>\n",
              "      <th>Wav2Vec2 Predicted Text</th>\n",
              "    </tr>\n",
              "  </thead>\n",
              "  <tbody>\n",
              "    <tr>\n",
              "      <th>0</th>\n",
              "      <td>0</td>\n",
              "      <td>بلوچی گوشت</td>\n",
              "      <td>بلوچی گوشت بنانے کے اجزاء ، بون لیس مٹن ½ کلو،...</td>\n",
              "      <td>بلوچی گوشڈر آدہ چائے کا چمچہ شملا مرچ 1 ادد ک...</td>\n",
              "      <td>بلوچی گوشت بنانے کے سا مول لیس مٹ دھکیل ادرک ل...</td>\n",
              "    </tr>\n",
              "    <tr>\n",
              "      <th>1</th>\n",
              "      <td>1</td>\n",
              "      <td>فروٹی اسموتھی</td>\n",
              "      <td>فروٹی اسموتھی بنانے کے اجزاء ، آڑو 1 کپ، درمی...</td>\n",
              "      <td>فروٹی سمودی بنانے کے اتزا اڑو 1 کپ ترمیانے گیل...</td>\n",
              "      <td>فروٹی اس مودی بنانے کے عجز اڑو 1 کپ درمیانے کی...</td>\n",
              "    </tr>\n",
              "    <tr>\n",
              "      <th>2</th>\n",
              "      <td>2</td>\n",
              "      <td>چلی چلی جھینگے</td>\n",
              "      <td>چلی چلی جھینگے بنانے کے اجزاء جھینگے ½ کلو، نا...</td>\n",
              "      <td>چلی چلی جھنگے بنانے کے اجزا جھنگے ½ کلو ناریل ...</td>\n",
              "      <td>چلی چلی جین گے بنانے کے جزا جیگ دھکیل ناریل قو...</td>\n",
              "    </tr>\n",
              "    <tr>\n",
              "      <th>3</th>\n",
              "      <td>3</td>\n",
              "      <td>کرسپ اسپنچ وِد سیلیڈ</td>\n",
              "      <td>کرسپ اسپنچ و د سیلیڈ بنانے کے اجزاء ، چکن بریس...</td>\n",
              "      <td>کرسپ سپنچ ویٹ سالٹ بنانے کے اجزاء چکن بریسٹ 2 ...</td>\n",
              "      <td>کرسپسپنچوت سالٹ بنانے کے از چکن برس 2 عدد کھیر...</td>\n",
              "    </tr>\n",
              "    <tr>\n",
              "      <th>4</th>\n",
              "      <td>4</td>\n",
              "      <td>کریم آلو</td>\n",
              "      <td>کریم آلو بنانے کے اجزاء ، آلو 1 کلو، ہری پیاز ...</td>\n",
              "      <td>کریم آلو بنانے کے عدزہ آلو ½ کلو ہری پیاز 2 عد...</td>\n",
              "      <td>کریم آلو بنانے کے عصا آلو ادا کیلوں ہری پیاز 2...</td>\n",
              "    </tr>\n",
              "  </tbody>\n",
              "</table>\n",
              "</div>\n",
              "      <button class=\"colab-df-convert\" onclick=\"convertToInteractive('df-764bfef6-0c43-4ec9-9017-6e1bb46b82ea')\"\n",
              "              title=\"Convert this dataframe to an interactive table.\"\n",
              "              style=\"display:none;\">\n",
              "        \n",
              "  <svg xmlns=\"http://www.w3.org/2000/svg\" height=\"24px\"viewBox=\"0 0 24 24\"\n",
              "       width=\"24px\">\n",
              "    <path d=\"M0 0h24v24H0V0z\" fill=\"none\"/>\n",
              "    <path d=\"M18.56 5.44l.94 2.06.94-2.06 2.06-.94-2.06-.94-.94-2.06-.94 2.06-2.06.94zm-11 1L8.5 8.5l.94-2.06 2.06-.94-2.06-.94L8.5 2.5l-.94 2.06-2.06.94zm10 10l.94 2.06.94-2.06 2.06-.94-2.06-.94-.94-2.06-.94 2.06-2.06.94z\"/><path d=\"M17.41 7.96l-1.37-1.37c-.4-.4-.92-.59-1.43-.59-.52 0-1.04.2-1.43.59L10.3 9.45l-7.72 7.72c-.78.78-.78 2.05 0 2.83L4 21.41c.39.39.9.59 1.41.59.51 0 1.02-.2 1.41-.59l7.78-7.78 2.81-2.81c.8-.78.8-2.07 0-2.86zM5.41 20L4 18.59l7.72-7.72 1.47 1.35L5.41 20z\"/>\n",
              "  </svg>\n",
              "      </button>\n",
              "      \n",
              "  <style>\n",
              "    .colab-df-container {\n",
              "      display:flex;\n",
              "      flex-wrap:wrap;\n",
              "      gap: 12px;\n",
              "    }\n",
              "\n",
              "    .colab-df-convert {\n",
              "      background-color: #E8F0FE;\n",
              "      border: none;\n",
              "      border-radius: 50%;\n",
              "      cursor: pointer;\n",
              "      display: none;\n",
              "      fill: #1967D2;\n",
              "      height: 32px;\n",
              "      padding: 0 0 0 0;\n",
              "      width: 32px;\n",
              "    }\n",
              "\n",
              "    .colab-df-convert:hover {\n",
              "      background-color: #E2EBFA;\n",
              "      box-shadow: 0px 1px 2px rgba(60, 64, 67, 0.3), 0px 1px 3px 1px rgba(60, 64, 67, 0.15);\n",
              "      fill: #174EA6;\n",
              "    }\n",
              "\n",
              "    [theme=dark] .colab-df-convert {\n",
              "      background-color: #3B4455;\n",
              "      fill: #D2E3FC;\n",
              "    }\n",
              "\n",
              "    [theme=dark] .colab-df-convert:hover {\n",
              "      background-color: #434B5C;\n",
              "      box-shadow: 0px 1px 3px 1px rgba(0, 0, 0, 0.15);\n",
              "      filter: drop-shadow(0px 1px 2px rgba(0, 0, 0, 0.3));\n",
              "      fill: #FFFFFF;\n",
              "    }\n",
              "  </style>\n",
              "\n",
              "      <script>\n",
              "        const buttonEl =\n",
              "          document.querySelector('#df-764bfef6-0c43-4ec9-9017-6e1bb46b82ea button.colab-df-convert');\n",
              "        buttonEl.style.display =\n",
              "          google.colab.kernel.accessAllowed ? 'block' : 'none';\n",
              "\n",
              "        async function convertToInteractive(key) {\n",
              "          const element = document.querySelector('#df-764bfef6-0c43-4ec9-9017-6e1bb46b82ea');\n",
              "          const dataTable =\n",
              "            await google.colab.kernel.invokeFunction('convertToInteractive',\n",
              "                                                     [key], {});\n",
              "          if (!dataTable) return;\n",
              "\n",
              "          const docLinkHtml = 'Like what you see? Visit the ' +\n",
              "            '<a target=\"_blank\" href=https://colab.research.google.com/notebooks/data_table.ipynb>data table notebook</a>'\n",
              "            + ' to learn more about interactive tables.';\n",
              "          element.innerHTML = '';\n",
              "          dataTable['output_type'] = 'display_data';\n",
              "          await google.colab.output.renderOutput(dataTable, element);\n",
              "          const docLink = document.createElement('div');\n",
              "          docLink.innerHTML = docLinkHtml;\n",
              "          element.appendChild(docLink);\n",
              "        }\n",
              "      </script>\n",
              "    </div>\n",
              "  </div>\n",
              "  "
            ]
          },
          "metadata": {},
          "execution_count": 32
        }
      ],
      "source": [
        "predictions.head()"
      ]
    },
    {
      "cell_type": "code",
      "execution_count": 34,
      "metadata": {
        "colab": {
          "base_uri": "https://localhost:8080/",
          "height": 36
        },
        "id": "MnK4sh4vkREW",
        "outputId": "a34d7388-24b1-4768-98a5-05bb70d8c8ab"
      },
      "outputs": [
        {
          "output_type": "execute_result",
          "data": {
            "text/plain": [
              "' فروٹی اسموتھی بنانے کے اجزاء ، آڑو 1 کپ، درمیانی کیلے 2 عدد، دہی 1 کپ، برف 1 کپ، چینی 1 کھانے کا چمچہ'"
            ],
            "application/vnd.google.colaboratory.intrinsic+json": {
              "type": "string"
            }
          },
          "metadata": {},
          "execution_count": 34
        }
      ],
      "source": [
        "predictions['Original Text'][1]"
      ]
    },
    {
      "cell_type": "code",
      "execution_count": 36,
      "metadata": {
        "id": "YJG1cL5YbwK-"
      },
      "outputs": [],
      "source": [
        "tagged_entities = []\n",
        "def tag_input(input_str):\n",
        "  org_string = input_str \n",
        "  # Define the regex pattern\n",
        "  pattern = r'(\\S+)\\s*(\\d+(?:\\.\\d+)?)\\s*(\\S+)'\n",
        "  # Extract the matches using the pattern\n",
        "  matches = re.findall(pattern, input_str)\n",
        "  decreased_length = 0\n",
        "  # Create a list of tuples with the tagged entities\n",
        "  for match in matches:\n",
        "    ingredient = re.search(match[0].strip(), input_str)\n",
        "    quantity = re.search(match[1].strip(), input_str)\n",
        "    unit = re.search(match[2].strip(), input_str)\n",
        "    text = input_str[ingredient.start(): ingredient.end()] + ' ' + input_str[quantity.start(): quantity.end()] + ' ' + input_str[unit.start(): unit.end()]\n",
        "    annotations = {'entities': [(ingredient.start() + decreased_length, ingredient.end() + decreased_length, \"Ingredient\"), \n",
        "                                          (quantity.start() + decreased_length, quantity.end() + decreased_length, \"Quantity\"), \n",
        "                                          (unit.start() + decreased_length, unit.end() + decreased_length, \"Unit\")]}\n",
        "    input_str = input_str[unit.end()+1:]\n",
        "    decreased_length = unit.end()\n",
        "    tagged_entities.append((text, annotations))\n"
      ]
    },
    {
      "cell_type": "code",
      "execution_count": 39,
      "metadata": {
        "id": "QKBcEoVpcIC8"
      },
      "outputs": [],
      "source": [
        "for i in predictions['Whisper Predicted Text']:\n",
        "    tag_input(i) "
      ]
    },
    {
      "cell_type": "code",
      "execution_count": 41,
      "metadata": {
        "colab": {
          "base_uri": "https://localhost:8080/"
        },
        "id": "RzNtta-ekeYz",
        "outputId": "a28afe5b-422a-4bb6-d9fb-de5e0ff29c3c"
      },
      "outputs": [
        {
          "output_type": "execute_result",
          "data": {
            "text/plain": [
              "[('پیسٹ 1 کھانے',\n",
              "  {'entities': [(60, 64, 'Ingredient'),\n",
              "    (65, 66, 'Quantity'),\n",
              "    (67, 72, 'Unit')]}),\n",
              " ('مرچ 6 عدد،',\n",
              "  {'entities': [(90, 93, 'Ingredient'),\n",
              "    (94, 95, 'Quantity'),\n",
              "    (96, 100, 'Unit')]}),\n",
              " ('مرچ 3 عدد،',\n",
              "  {'entities': [(32, 35, 'Ingredient'),\n",
              "    (36, 37, 'Quantity'),\n",
              "    (38, 42, 'Unit')]}),\n",
              " ('زیرہ 1 چائے',\n",
              "  {'entities': [(22, 26, 'Ingredient'),\n",
              "    (27, 28, 'Quantity'),\n",
              "    (29, 33, 'Unit')]}),\n",
              " ('دھنیا 1 /4',\n",
              "  {'entities': [(33, 38, 'Ingredient'),\n",
              "    (39, 40, 'Quantity'),\n",
              "    (40, 42, 'Unit')]})]"
            ]
          },
          "metadata": {},
          "execution_count": 41
        }
      ],
      "source": [
        "tagged_entities[:5]"
      ]
    },
    {
      "cell_type": "code",
      "execution_count": 43,
      "metadata": {
        "id": "etkIWx0L09wT",
        "colab": {
          "base_uri": "https://localhost:8080/"
        },
        "outputId": "e7a34865-3f5b-4566-cdb3-7bebfe935a0d"
      },
      "outputs": [
        {
          "output_type": "stream",
          "name": "stdout",
          "text": [
            "Precision: 0.01\n",
            "Recall: 0.01\n",
            "F1 score: 0.01\n"
          ]
        }
      ],
      "source": [
        "# Function to evaluate the model on a test set\n",
        "def evaluate_model(test_data):\n",
        "    # Initialize counters\n",
        "    total_true = 0\n",
        "    total_predicted = 0\n",
        "    total_correct = 0\n",
        "    \n",
        "    # Iterate over the test data\n",
        "    for text, annotations in test_data:\n",
        "        # Get the true entities\n",
        "        true_entities = set([(ent[0], ent[1], ent[2]) for ent in annotations[\"entities\"]])\n",
        "        \n",
        "        \n",
        "        # Get the predicted entities\n",
        "        doc = nlp(text)\n",
        "        predicted_entities = set([(ent.start_char, ent.end_char ,ent.label_) for ent in doc.ents])\n",
        "        \n",
        "        # Update the counters\n",
        "        total_true += len(true_entities)\n",
        "        total_predicted += len(predicted_entities)\n",
        "        total_correct += len(true_entities.intersection(predicted_entities))\n",
        "    \n",
        "    # Calculate precision, recall, and F1 score\n",
        "    precision = total_correct / total_predicted if total_predicted > 0 else 0.0\n",
        "    recall = total_correct / total_true if total_true > 0 else 0.0\n",
        "    f1_score = 2 * precision * recall / (precision + recall) if precision + recall > 0 else 0.0\n",
        "    \n",
        "    # Print the evaluation metrics\n",
        "    print(f\"Precision: {precision:.2f}\")\n",
        "    print(f\"Recall: {recall:.2f}\")\n",
        "    print(f\"F1 score: {f1_score:.2f}\")\n",
        "\n",
        "# Evaluate the model on the test data\n",
        "evaluate_model(tagged_entities)"
      ]
    }
  ],
  "metadata": {
    "accelerator": "GPU",
    "colab": {
      "provenance": []
    },
    "gpuClass": "standard",
    "kernelspec": {
      "display_name": "Python 3 (ipykernel)",
      "language": "python",
      "name": "python3"
    },
    "language_info": {
      "codemirror_mode": {
        "name": "ipython",
        "version": 3
      },
      "file_extension": ".py",
      "mimetype": "text/x-python",
      "name": "python",
      "nbconvert_exporter": "python",
      "pygments_lexer": "ipython3",
      "version": "3.9.13"
    }
  },
  "nbformat": 4,
  "nbformat_minor": 0
}